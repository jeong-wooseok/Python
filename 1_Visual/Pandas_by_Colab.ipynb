{
 "cells": [
  {
   "cell_type": "markdown",
   "metadata": {
    "colab_type": "text",
    "id": "view-in-github"
   },
   "source": [
    "<a href=\"https://colab.research.google.com/github/jeong-wooseok/Python/blob/master/Pandas_by_Colab.ipynb\" target=\"_parent\"><img src=\"https://colab.research.google.com/assets/colab-badge.svg\" alt=\"Open In Colab\"/></a>"
   ]
  },
  {
   "cell_type": "markdown",
   "metadata": {
    "id": "ikVIYwckvW3L"
   },
   "source": [
    "# 판다스 기초\r\n"
   ]
  },
  {
   "cell_type": "markdown",
   "metadata": {
    "id": "KcuFeJxhgnfW"
   },
   "source": [
    "##1강. Colab 접속하기\r\n",
    "- 라이브러리 임폴트\r\n",
    "- colab 설정\r\n",
    "- csv파일, excel파일 불러오기\r\n"
   ]
  },
  {
   "cell_type": "code",
   "execution_count": null,
   "metadata": {
    "id": "8RdAzxfDu1iS"
   },
   "outputs": [],
   "source": [
    "import pandas as pd # 판다스 라이브러리를 불러옴"
   ]
  },
  {
   "cell_type": "code",
   "execution_count": null,
   "metadata": {
    "id": "9J4x4ql78Yrk"
   },
   "outputs": [],
   "source": [
    "cali_house = pd.read_csv('/content/sample_data/california_housing_test.csv') # read_csv 및 링크를 통해 데이터를 불러와서 변수에 담음"
   ]
  },
  {
   "cell_type": "code",
   "execution_count": null,
   "metadata": {
    "colab": {
     "base_uri": "https://localhost:8080/",
     "height": 197
    },
    "id": "1fqC74xa8pCu",
    "outputId": "1860149d-5a24-4f8a-e621-f7f8dbfc2c6c"
   },
   "outputs": [
    {
     "data": {
      "text/html": [
       "<div>\n",
       "<style scoped>\n",
       "    .dataframe tbody tr th:only-of-type {\n",
       "        vertical-align: middle;\n",
       "    }\n",
       "\n",
       "    .dataframe tbody tr th {\n",
       "        vertical-align: top;\n",
       "    }\n",
       "\n",
       "    .dataframe thead th {\n",
       "        text-align: right;\n",
       "    }\n",
       "</style>\n",
       "<table border=\"1\" class=\"dataframe\">\n",
       "  <thead>\n",
       "    <tr style=\"text-align: right;\">\n",
       "      <th></th>\n",
       "      <th>longitude</th>\n",
       "      <th>latitude</th>\n",
       "      <th>housing_median_age</th>\n",
       "      <th>total_rooms</th>\n",
       "      <th>total_bedrooms</th>\n",
       "      <th>population</th>\n",
       "      <th>households</th>\n",
       "      <th>median_income</th>\n",
       "      <th>median_house_value</th>\n",
       "    </tr>\n",
       "  </thead>\n",
       "  <tbody>\n",
       "    <tr>\n",
       "      <th>0</th>\n",
       "      <td>-122.05</td>\n",
       "      <td>37.37</td>\n",
       "      <td>27.0</td>\n",
       "      <td>3885.0</td>\n",
       "      <td>661.0</td>\n",
       "      <td>1537.0</td>\n",
       "      <td>606.0</td>\n",
       "      <td>6.6085</td>\n",
       "      <td>344700.0</td>\n",
       "    </tr>\n",
       "    <tr>\n",
       "      <th>1</th>\n",
       "      <td>-118.30</td>\n",
       "      <td>34.26</td>\n",
       "      <td>43.0</td>\n",
       "      <td>1510.0</td>\n",
       "      <td>310.0</td>\n",
       "      <td>809.0</td>\n",
       "      <td>277.0</td>\n",
       "      <td>3.5990</td>\n",
       "      <td>176500.0</td>\n",
       "    </tr>\n",
       "    <tr>\n",
       "      <th>2</th>\n",
       "      <td>-117.81</td>\n",
       "      <td>33.78</td>\n",
       "      <td>27.0</td>\n",
       "      <td>3589.0</td>\n",
       "      <td>507.0</td>\n",
       "      <td>1484.0</td>\n",
       "      <td>495.0</td>\n",
       "      <td>5.7934</td>\n",
       "      <td>270500.0</td>\n",
       "    </tr>\n",
       "    <tr>\n",
       "      <th>3</th>\n",
       "      <td>-118.36</td>\n",
       "      <td>33.82</td>\n",
       "      <td>28.0</td>\n",
       "      <td>67.0</td>\n",
       "      <td>15.0</td>\n",
       "      <td>49.0</td>\n",
       "      <td>11.0</td>\n",
       "      <td>6.1359</td>\n",
       "      <td>330000.0</td>\n",
       "    </tr>\n",
       "    <tr>\n",
       "      <th>4</th>\n",
       "      <td>-119.67</td>\n",
       "      <td>36.33</td>\n",
       "      <td>19.0</td>\n",
       "      <td>1241.0</td>\n",
       "      <td>244.0</td>\n",
       "      <td>850.0</td>\n",
       "      <td>237.0</td>\n",
       "      <td>2.9375</td>\n",
       "      <td>81700.0</td>\n",
       "    </tr>\n",
       "  </tbody>\n",
       "</table>\n",
       "</div>"
      ],
      "text/plain": [
       "   longitude  latitude  ...  median_income  median_house_value\n",
       "0    -122.05     37.37  ...         6.6085            344700.0\n",
       "1    -118.30     34.26  ...         3.5990            176500.0\n",
       "2    -117.81     33.78  ...         5.7934            270500.0\n",
       "3    -118.36     33.82  ...         6.1359            330000.0\n",
       "4    -119.67     36.33  ...         2.9375             81700.0\n",
       "\n",
       "[5 rows x 9 columns]"
      ]
     },
     "execution_count": 13,
     "metadata": {
      "tags": []
     },
     "output_type": "execute_result"
    }
   ],
   "source": [
    "cali_house.head(5) # 담긴 변수의 데이터프레임 5개 개체만 보기"
   ]
  },
  {
   "cell_type": "code",
   "execution_count": null,
   "metadata": {
    "colab": {
     "base_uri": "https://localhost:8080/"
    },
    "id": "H2mRsSAF9GIK",
    "outputId": "25e375a5-3945-4921-f88a-f212d6f0f186"
   },
   "outputs": [
    {
     "name": "stdout",
     "output_type": "stream",
     "text": [
      "<class 'pandas.core.frame.DataFrame'>\n",
      "RangeIndex: 3000 entries, 0 to 2999\n",
      "Data columns (total 9 columns):\n",
      " #   Column              Non-Null Count  Dtype  \n",
      "---  ------              --------------  -----  \n",
      " 0   longitude           3000 non-null   float64\n",
      " 1   latitude            3000 non-null   float64\n",
      " 2   housing_median_age  3000 non-null   float64\n",
      " 3   total_rooms         3000 non-null   float64\n",
      " 4   total_bedrooms      3000 non-null   float64\n",
      " 5   population          3000 non-null   float64\n",
      " 6   households          3000 non-null   float64\n",
      " 7   median_income       3000 non-null   float64\n",
      " 8   median_house_value  3000 non-null   float64\n",
      "dtypes: float64(9)\n",
      "memory usage: 211.1 KB\n"
     ]
    }
   ],
   "source": [
    "cali_house.info() # 데이터프레임 구조 보기, 자료형"
   ]
  },
  {
   "cell_type": "code",
   "execution_count": null,
   "metadata": {
    "colab": {
     "base_uri": "https://localhost:8080/"
    },
    "id": "B9Nn5JjQ9PWA",
    "outputId": "532cef60-3c92-4381-b75e-005130dea305"
   },
   "outputs": [
    {
     "name": "stdout",
     "output_type": "stream",
     "text": [
      "<class 'pandas.core.frame.DataFrame'>\n",
      "Float64Index: 3 entries, nan to nan\n",
      "Data columns (total 7 columns):\n",
      " #   Column  Non-Null Count  Dtype         \n",
      "---  ------  --------------  -----         \n",
      " 0   이름      3 non-null      object        \n",
      " 1   키       3 non-null      int64         \n",
      " 2   전화번호    3 non-null      object        \n",
      " 3   입사일자    3 non-null      datetime64[ns]\n",
      " 4   직급      3 non-null      object        \n",
      " 5   직책      3 non-null      object        \n",
      " 6   직무      3 non-null      object        \n",
      "dtypes: datetime64[ns](1), int64(1), object(5)\n",
      "memory usage: 192.0+ bytes\n"
     ]
    }
   ],
   "source": [
    "emp = pd.read_excel('/content/연습용.xlsx',header=1,sheet_name = 0, index_col = 0)\r\n",
    "emp.info()"
   ]
  },
  {
   "cell_type": "code",
   "execution_count": null,
   "metadata": {
    "colab": {
     "base_uri": "https://localhost:8080/"
    },
    "id": "r5fwF60c-ohn",
    "outputId": "920212df-df68-4169-dde0-bc5183dcb876"
   },
   "outputs": [
    {
     "name": "stdout",
     "output_type": "stream",
     "text": [
      "<class 'pandas.core.frame.DataFrame'>\n",
      "Float64Index: 3 entries, nan to nan\n",
      "Data columns (total 5 columns):\n",
      " #   Column  Non-Null Count  Dtype \n",
      "---  ------  --------------  ----- \n",
      " 0   이름      3 non-null      object\n",
      " 1   년도      3 non-null      int64 \n",
      " 2   직무      3 non-null      object\n",
      " 3   업적      3 non-null      object\n",
      " 4   종합      3 non-null      object\n",
      "dtypes: int64(1), object(4)\n",
      "memory usage: 144.0+ bytes\n"
     ]
    }
   ],
   "source": [
    "emp_as = pd.read_excel('/content/연습용.xlsx',header=1,sheet_name = 1, index_col = 0)\r\n",
    "emp_as.info()"
   ]
  },
  {
   "cell_type": "markdown",
   "metadata": {
    "id": "iiDPR4vVXs2x"
   },
   "source": [
    "[연습용엑셀다운로드](https://docs.google.com/spreadsheets/d/1hh4mwrhpcOO3558tVDIvo9p5KIDry4Fm6cAV3IseczU/edit?usp=sharing)"
   ]
  },
  {
   "cell_type": "markdown",
   "metadata": {
    "id": "UQxGk1LMgdSd"
   },
   "source": [
    "## 2 강. Colab을 활용해서 시각화를 해보자\r\n",
    "- 엑셀이면 되지, 왜 굳이 코딩을 하니? \r\n",
    " + 분석\r\n",
    " + 시각화\r\n",
    "- 시각화\r\n",
    " + matplotlib\r\n",
    " + seaborn"
   ]
  },
  {
   "cell_type": "code",
   "execution_count": null,
   "metadata": {
    "id": "5kuxm4Wyq49e"
   },
   "outputs": [],
   "source": [
    "cali_house.describe() # 평균, 표준편차, 최소값, 중위값, 최대값 등 계산"
   ]
  },
  {
   "cell_type": "code",
   "execution_count": null,
   "metadata": {
    "id": "Rp98Kydf_NhJ"
   },
   "outputs": [],
   "source": [
    "cali_house.corr() # Corr 메소드를 통해 변수간 상관계수 확인"
   ]
  },
  {
   "cell_type": "code",
   "execution_count": null,
   "metadata": {
    "id": "N2HDgQM6mykx"
   },
   "outputs": [],
   "source": [
    "fig = plt.figure(figsize=(20,10))\r\n",
    "\r\n",
    "cali_house.plot(x='median_income',y = 'median_house_value',marker='o', ls='none',c='r')\r\n",
    "cali_house.plot(x='total_bedrooms',y = ['median_house_value','population'],marker='o', ls='none')"
   ]
  },
  {
   "cell_type": "code",
   "execution_count": null,
   "metadata": {
    "id": "5PhsRscBAgtM"
   },
   "outputs": [],
   "source": [
    "cali_house.median_income.hist(bins=100)"
   ]
  },
  {
   "cell_type": "code",
   "execution_count": null,
   "metadata": {
    "id": "gKxqme27tc4M"
   },
   "outputs": [],
   "source": [
    "import seaborn as sns          \r\n",
    "sns.pairplot(cali_house)"
   ]
  },
  {
   "cell_type": "markdown",
   "metadata": {
    "id": "9LIQxNdd0KVA"
   },
   "source": [
    "### Matplotlib\r\n",
    "\r\n"
   ]
  },
  {
   "cell_type": "markdown",
   "metadata": {
    "id": "mkPDKPhW87D5"
   },
   "source": [
    "#### 선그래프"
   ]
  },
  {
   "cell_type": "code",
   "execution_count": null,
   "metadata": {
    "id": "pAODkhst4HZ_"
   },
   "outputs": [],
   "source": [
    "import matplotlib.pyplot as plt\r\n",
    "plt.figure(figsize=(10,5)) # 도화지를 그리고\r\n",
    "\r\n",
    "x = [1,2,3,4,5] # 변수 넣고\r\n",
    "y = [6,7,8,9,10]\r\n",
    "\r\n",
    "plt.plot(x,y) # 출력해"
   ]
  },
  {
   "cell_type": "code",
   "execution_count": null,
   "metadata": {
    "id": "52g2GBtlWKB2"
   },
   "outputs": [],
   "source": [
    "plt.scatter(x,y)\r\n",
    "# plt.plot(x,y,marker='+',ls='none') # scatter 와 동일한 효과"
   ]
  },
  {
   "cell_type": "markdown",
   "metadata": {
    "id": "r8on6tYz8zpU"
   },
   "source": [
    "#### 막대그래프"
   ]
  },
  {
   "cell_type": "code",
   "execution_count": null,
   "metadata": {
    "id": "L8wKU8O98uDh"
   },
   "outputs": [],
   "source": [
    "plt.bar(x,y, color = '#6A8799', width=0.5)"
   ]
  },
  {
   "cell_type": "markdown",
   "metadata": {
    "id": "uocK2UO0_2FN"
   },
   "source": [
    "비교 막대그래프"
   ]
  },
  {
   "cell_type": "code",
   "execution_count": null,
   "metadata": {
    "id": "W3nm3qom_Zj5"
   },
   "outputs": [],
   "source": [
    "import matplotlib\r\n",
    "import matplotlib.pyplot as plt\r\n",
    "import numpy as np\r\n",
    "\r\n",
    "\r\n",
    "labels = ['G1', 'G2', 'G3', 'G4', 'G5']\r\n",
    "men_means = [20, 34, 30, 35, 27]\r\n",
    "women_means = [25, 32, 34, 20, 25]\r\n",
    "\r\n",
    "x = np.arange(len(labels))  # the label locations\r\n",
    "width = 0.35  # the width of the bars\r\n",
    "\r\n",
    "fig, ax = plt.subplots()\r\n",
    "\r\n",
    "ax.bar(x - width/2, men_means, width, label='Men')\r\n",
    "ax.bar(x + width/2, women_means, width, label='Women')\r\n",
    "\r\n",
    "# Add some text for labels, title and custom x-axis tick labels, etc.\r\n",
    "ax.set_ylabel('Scores')\r\n",
    "ax.set_title('Scores by group and gender')\r\n",
    "ax.set_xticks(x)\r\n",
    "ax.set_xticklabels(labels)\r\n",
    "ax.legend()"
   ]
  },
  {
   "cell_type": "code",
   "execution_count": null,
   "metadata": {
    "id": "UgyE7YE7RvZ1"
   },
   "outputs": [],
   "source": [
    "labels = ['G1', 'G2', 'G3', 'G4', 'G5']\r\n",
    "men_means = np.array([20, 34, 30, 35, 27])\r\n",
    "women_means = np.array([25, 32, 34, 20, 25])\r\n",
    "\r\n",
    "# x = np.arange(len(labels))\r\n",
    "x = labels\r\n",
    "\r\n",
    "plt.barh(x, -men_means, width, label='Men')\r\n",
    "plt.barh(x, women_means, width, label='Women')\r\n",
    "plt.legend()"
   ]
  },
  {
   "cell_type": "markdown",
   "metadata": {
    "id": "zHn5gKmr_7MI"
   },
   "source": [
    "누적 막대그래프"
   ]
  },
  {
   "cell_type": "code",
   "execution_count": null,
   "metadata": {
    "id": "8sIG-cMIz_pZ"
   },
   "outputs": [],
   "source": [
    "import matplotlib.pyplot as plt\r\n",
    "# 평균과 표준편차를 한번에 보기\r\n",
    "\r\n",
    "labels = ['G1', 'G2', 'G3', 'G4', 'G5']\r\n",
    "men_means = [20, 35, 30, 35, 27]\r\n",
    "women_means = [25, 32, 34, 20, 25] \r\n",
    "men_std = [2, 3, 4, 1, 2]\r\n",
    "women_std = [3, 5, 2, 3, 3]\r\n",
    "width = 0.35       \r\n",
    "\r\n",
    "fig, ax = plt.subplots()\r\n",
    "\r\n",
    "ax.bar(labels, men_means, width, yerr=men_std, label='Men')\r\n",
    "ax.bar(labels, women_means, width, yerr=women_std, bottom=men_means,\r\n",
    "       label='Women')\r\n",
    "\r\n",
    "ax.set_ylabel('Scores')\r\n",
    "ax.set_title('Scores by group and gender')\r\n",
    "ax.legend()\r\n",
    "\r\n",
    "plt.show()"
   ]
  },
  {
   "cell_type": "markdown",
   "metadata": {
    "id": "kH5f_81PUd5A"
   },
   "source": [
    "#### Bar Plot <br>\r\n",
    "최소/최대값 25% 중분위 75%의 값을 확인 가능"
   ]
  },
  {
   "cell_type": "code",
   "execution_count": null,
   "metadata": {
    "id": "Yz4CpTvXUZMU"
   },
   "outputs": [],
   "source": [
    "data = np.random.rand(100,5)\r\n",
    "plt.boxplot(data)\r\n",
    "plt.show()"
   ]
  },
  {
   "cell_type": "markdown",
   "metadata": {
    "id": "MFSel4SoU4zg"
   },
   "source": [
    "#### 원 그래프 (PI)"
   ]
  },
  {
   "cell_type": "code",
   "execution_count": null,
   "metadata": {
    "id": "NwiDZ-DSUrsy"
   },
   "outputs": [],
   "source": [
    "plt.figure(figsize=(10,5))\r\n",
    "size= [2441,2312,1031,1233]\r\n",
    "label = ['A','B','C','D']\r\n",
    "\r\n",
    "plt.pie(size,labels=label, autopct = '%2.1f%%')#소수점 1자리\r\n",
    "\r\n",
    "# def func(pct, allvals):\r\n",
    "#     absolute = int(pct/100.*np.sum(allvals))\r\n",
    "#     return \"{:.1f}%\\n({:d} )\".format(pct, absolute)\r\n",
    "# plt.pie(size, labels=label, autopct=lambda pct: func(pct, size))\r\n",
    "\r\n",
    "plt.legend()\r\n",
    "plt.show()"
   ]
  },
  {
   "cell_type": "markdown",
   "metadata": {
    "id": "DJMsguloAZlr"
   },
   "source": [
    "#### 화면나눠보기"
   ]
  },
  {
   "cell_type": "code",
   "execution_count": null,
   "metadata": {
    "id": "iTJIH2_N4ggI"
   },
   "outputs": [],
   "source": [
    "import numpy as np\r\n",
    "import matplotlib.pyplot as plt\r\n",
    "plt.figure(figsize=(10,5))\r\n",
    "\r\n",
    "x1 = range(50)\r\n",
    "y1 = [np.cos(v) for v in x1]\r\n",
    "\r\n",
    "x2 = range(50)\r\n",
    "y2 = [np.sin(v) for v in x2]\r\n",
    "\r\n",
    "plt.subplot(1,2,1) # subplot : 도화지를 나눔, 1행/2열로 나누고 첫번째도화지에...\r\n",
    "plt.plot(x1,y1, c = 'grey', ls= ':',lw ='2') #x1,y1을 그리고\r\n",
    "\r\n",
    "plt.subplot(1,2,2) # 두번째도화지에 두번째 그래프를 그려라.\r\n",
    "plt.plot(x2,y2, c = 'black', ls = '-', lw ='0.5' )"
   ]
  },
  {
   "cell_type": "markdown",
   "metadata": {
    "id": "mLFYpsp04JZS"
   },
   "source": [
    "#### 기타\r\n",
    "본격적으로 배워보기 위해 MATPLOTLIB 사이트를 방문 합니다.<br>\r\n",
    "[MATPLOTLIB 공식사이트](https://matplotlib.org/gallery/index.html)"
   ]
  },
  {
   "cell_type": "code",
   "execution_count": null,
   "metadata": {
    "id": "SZrIJEMl1wT1"
   },
   "outputs": [],
   "source": [
    "import matplotlib.pyplot as plt\r\n",
    "import matplotlib.patches as patches\r\n",
    "import matplotlib.cbook as cbook\r\n",
    "\r\n",
    "\r\n",
    "with cbook.get_sample_data('grace_hopper.png') as image_file:\r\n",
    "    image = plt.imread(image_file)\r\n",
    "\r\n",
    "fig, ax = plt.subplots()\r\n",
    "im = ax.imshow(image)\r\n",
    "patch = patches.Circle((260, 200), radius=200, transform=ax.transData)\r\n",
    "im.set_clip_path(patch)\r\n",
    "\r\n",
    "ax.axis('off')\r\n",
    "plt.show()"
   ]
  },
  {
   "cell_type": "code",
   "execution_count": 132,
   "metadata": {
    "id": "nrxvC1dQ2hB4"
   },
   "outputs": [],
   "source": [
    "dog = plt.imread('/content/강아지_5.jpg')"
   ]
  },
  {
   "cell_type": "markdown",
   "metadata": {
    "id": "n0M0a8kbBc9b"
   },
   "source": [
    "[강아지파일다운](https://drive.google.com/file/d/1YBA86nf_EsHeZq8U94-jFq6BsGgl2Pc9/view?usp=sharing)"
   ]
  },
  {
   "cell_type": "code",
   "execution_count": 134,
   "metadata": {
    "colab": {
     "base_uri": "https://localhost:8080/"
    },
    "id": "dnJ-ym2z3SXI",
    "outputId": "2a81bc85-65b1-4103-aa99-90819e3e2e3c"
   },
   "outputs": [
    {
     "data": {
      "text/plain": [
       "(400, 356, 3)"
      ]
     },
     "execution_count": 134,
     "metadata": {
      "tags": []
     },
     "output_type": "execute_result"
    }
   ],
   "source": [
    "dog.shape # 이미지가 숫자화 된 것을 볼 수 있음"
   ]
  },
  {
   "cell_type": "code",
   "execution_count": null,
   "metadata": {
    "id": "wpdWxYJw3THN"
   },
   "outputs": [],
   "source": [
    "plt.imshow(dog)\r\n",
    "plt.axis('off')"
   ]
  },
  {
   "cell_type": "markdown",
   "metadata": {
    "id": "SO-BZZVhY--S"
   },
   "source": [
    "#### 정리"
   ]
  },
  {
   "cell_type": "code",
   "execution_count": null,
   "metadata": {
    "id": "46jKlN3GY-Uk"
   },
   "outputs": [],
   "source": [
    "import numpy as np\r\n",
    "import matplotlib.pyplot as plt\r\n",
    "plt.figure(figsize=(10,5))\r\n",
    "\r\n",
    "x1 = range(100)\r\n",
    "y1 = [v for v in x1]\r\n",
    "\r\n",
    "\r\n",
    "x2 = range(100)\r\n",
    "y2 = [v*2 for v in x1]\r\n",
    "\r\n",
    "plt.plot(x1,y1, c = 'grey', ls= ':',lw ='1',label='line1')\r\n",
    "plt.plot(x2,y2, c = '#0000ff', ls= '-',lw ='1',label='line2')\r\n",
    "plt.legend()\r\n",
    "\r\n",
    "plt.text(80,100,'anyways', c='darkgrey', size = '12')\r\n",
    "# text : 텍스트 입력\r\n",
    "plt.annotate('Check',xytext=(47,75), xy=(50,60),\\\r\n",
    "        arrowprops = dict(fc= 'lightyellow', shrink = 0.2))\r\n",
    "# annotate : 표식 표기 # 텍스트위치 xytext(,) 표식위치 xy(,), 페이스컬러 fc, 화살표길이 shrink\r\n",
    "\r\n",
    "plt.xlabel('M Axis',size = '15') # x축 레이블\r\n",
    "plt.ylabel('F Axis',size = '15') # y축 레이블\r\n",
    "plt.title('F = ma',size = '20') # 타이틀 입력"
   ]
  },
  {
   "cell_type": "markdown",
   "metadata": {
    "id": "hb-0YyqFA6Zl"
   },
   "source": [
    "## 3강. Groupby와 Seaborn시각화"
   ]
  },
  {
   "cell_type": "markdown",
   "metadata": {
    "id": "MOCLOS_t7L6S"
   },
   "source": [
    "### Seaborn"
   ]
  },
  {
   "cell_type": "markdown",
   "metadata": {
    "id": "mK92iRjs7lZ2"
   },
   "source": [
    "[SEABORN공식사이트](https://seaborn.pydata.org/tutorial.html)"
   ]
  },
  {
   "cell_type": "code",
   "execution_count": null,
   "metadata": {
    "id": "BcrWKSo53aDH"
   },
   "outputs": [],
   "source": []
  }
 ],
 "metadata": {
  "colab": {
   "authorship_tag": "ABX9TyML0rBI5+SGd0u/vGF+pjlZ",
   "collapsed_sections": [
    "KcuFeJxhgnfW",
    "hb-0YyqFA6Zl"
   ],
   "include_colab_link": true,
   "name": "Pandas by Colab.ipynb",
   "provenance": [],
   "toc_visible": true
  },
  "kernelspec": {
   "display_name": "Python 3",
   "language": "python",
   "name": "python3"
  },
  "language_info": {
   "codemirror_mode": {
    "name": "ipython",
    "version": 3
   },
   "file_extension": ".py",
   "mimetype": "text/x-python",
   "name": "python",
   "nbconvert_exporter": "python",
   "pygments_lexer": "ipython3",
   "version": "3.8.5"
  }
 },
 "nbformat": 4,
 "nbformat_minor": 4
}
