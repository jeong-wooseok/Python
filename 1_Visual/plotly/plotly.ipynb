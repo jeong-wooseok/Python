{
 "cells": [
  {
   "cell_type": "code",
   "execution_count": 1,
   "id": "0d1c2f06",
   "metadata": {
    "ExecuteTime": {
     "end_time": "2022-12-29T12:58:45.089870Z",
     "start_time": "2022-12-29T12:58:35.479587Z"
    }
   },
   "outputs": [
    {
     "name": "stdout",
     "output_type": "stream",
     "text": [
      "Collecting plotly\n",
      "  Downloading plotly-5.11.0-py2.py3-none-any.whl (15.3 MB)\n",
      "\u001b[K     |████████████████████████████████| 15.3 MB 4.3 MB/s eta 0:00:01\n",
      "\u001b[?25hCollecting tenacity>=6.2.0\n",
      "  Downloading tenacity-8.1.0-py3-none-any.whl (23 kB)\n",
      "Installing collected packages: tenacity, plotly\n",
      "Successfully installed plotly-5.11.0 tenacity-8.1.0\n"
     ]
    }
   ],
   "source": [
    "# !pip install plotly"
   ]
  },
  {
   "cell_type": "markdown",
   "id": "8444cdb1",
   "metadata": {},
   "source": [
    "## 기본 플럿 생성"
   ]
  },
  {
   "cell_type": "code",
   "execution_count": 7,
   "id": "c24eec63",
   "metadata": {
    "ExecuteTime": {
     "end_time": "2022-12-29T13:06:56.780024Z",
     "start_time": "2022-12-29T13:06:56.750612Z"
    }
   },
   "outputs": [
    {
     "data": {
      "text/plain": [
       "'scatter.html'"
      ]
     },
     "execution_count": 7,
     "metadata": {},
     "output_type": "execute_result"
    }
   ],
   "source": [
    "import numpy as np\n",
    "import plotly.offline as pyo\n",
    "import plotly.graph_objs as go\n",
    "\n",
    "np.random.seed(42)\n",
    "random_x = np.random.randint(1,101,100)\n",
    "random_y = np.random.randint(1,101,100)\n",
    "\n",
    "data = [go.Scatter(x=random_x,\n",
    "                  y=random_y,\n",
    "                  mode='markers')]\n",
    "\n",
    "pyo.plot(data,filename='./output/1.scatter_basic.html')"
   ]
  },
  {
   "cell_type": "code",
   "execution_count": 2,
   "id": "07a215df",
   "metadata": {
    "ExecuteTime": {
     "end_time": "2022-12-29T14:46:07.688106Z",
     "start_time": "2022-12-29T14:46:07.660790Z"
    }
   },
   "outputs": [
    {
     "data": {
      "text/plain": [
       "'./output/2.scatter_fig.html'"
      ]
     },
     "execution_count": 2,
     "metadata": {},
     "output_type": "execute_result"
    }
   ],
   "source": [
    "import numpy as np\n",
    "import plotly.offline as pyo\n",
    "import plotly.graph_objs as go\n",
    "\n",
    "np.random.seed(42)\n",
    "random_x = np.random.randint(1,101,100)\n",
    "random_y = np.random.randint(1,101,100)\n",
    "\n",
    "data = [go.Scatter(x=random_x,\n",
    "                  y=random_y,\n",
    "                  mode='markers',\n",
    "                  marker =dict(\n",
    "                  size=12,\n",
    "                  color='rgb(51,204,153)',\n",
    "                  symbol='pentagon',\n",
    "                  line={'width':2}\n",
    "                  ))]\n",
    "# 레이아웃에 타이틀, xaxis, yaxis 등 넣어주고\n",
    "layout = go.Layout(title='First plot',\n",
    "                  xaxis={'title':'My X Axis'},\n",
    "                  yaxis=dict(title='My Y Axis'),\n",
    "                  hovermode = 'closest')\n",
    "# fig에 데이터, 레이아웃 담고\n",
    "fig = go.Figure(data=data, layout=layout)\n",
    "# fig출력\n",
    "pyo.plot(fig,filename='./output/2.scatter_fig.html')"
   ]
  },
  {
   "cell_type": "markdown",
   "id": "c620b9f4",
   "metadata": {},
   "source": [
    "## 라인 차트"
   ]
  },
  {
   "cell_type": "code",
   "execution_count": 3,
   "id": "5fdf23ff",
   "metadata": {
    "ExecuteTime": {
     "end_time": "2022-12-29T14:46:38.514814Z",
     "start_time": "2022-12-29T14:46:38.487927Z"
    }
   },
   "outputs": [
    {
     "data": {
      "text/plain": [
       "'./output/3.line_basic.html'"
      ]
     },
     "execution_count": 3,
     "metadata": {},
     "output_type": "execute_result"
    }
   ],
   "source": [
    "import numpy as np\n",
    "import plotly.offline as pyo\n",
    "import plotly.graph_objs as go\n",
    "\n",
    "np.random.seed(56)\n",
    "x_values = np.linspace(0,1,100)\n",
    "y_values = np.random.randn(100)\n",
    "\n",
    "trace = go.Scatter(x = x_values, y=y_values+5,\n",
    "                  mode='markers',name='markers')\n",
    "\n",
    "data = [trace]\n",
    "\n",
    "layout = go.Layout(title = 'Line Charts')\n",
    "\n",
    "fig = go.Figure(data=data, layout=layout)\n",
    "\n",
    "pyo.plot(fig,filename='./output/3.line_basic.html')"
   ]
  },
  {
   "cell_type": "code",
   "execution_count": 6,
   "id": "2d73ea43",
   "metadata": {
    "ExecuteTime": {
     "end_time": "2022-12-29T14:47:06.264163Z",
     "start_time": "2022-12-29T14:47:06.236137Z"
    }
   },
   "outputs": [
    {
     "data": {
      "text/plain": [
       "'./output/4.line_fig.html'"
      ]
     },
     "execution_count": 6,
     "metadata": {},
     "output_type": "execute_result"
    }
   ],
   "source": [
    "import numpy as np\n",
    "import plotly.offline as pyo\n",
    "import plotly.graph_objs as go\n",
    "\n",
    "np.random.seed(56)\n",
    "x_values = np.linspace(0,1,100)\n",
    "y_values = np.random.randn(100)\n",
    "\n",
    "trace0 = go.Scatter(x = x_values, y=y_values+5,\n",
    "                  mode='markers',name='markers')\n",
    "trace1 = go.Scatter(x = x_values, y=y_values,\n",
    "                  mode='lines',name='mylines')\n",
    "trace2 = go.Scatter(x = x_values, y=y_values-5,\n",
    "                  mode='lines',name='mylines')\n",
    "\n",
    "data = [trace0, trace1,trace2]\n",
    "\n",
    "layout = go.Layout(title = 'Line Charts')\n",
    "\n",
    "fig = go.Figure(data=data, layout=layout)\n",
    "\n",
    "pyo.plot(fig,filename='./output/4.line_fig.html')"
   ]
  },
  {
   "cell_type": "markdown",
   "id": "9f472871",
   "metadata": {},
   "source": [
    "## 데이터로 만들기"
   ]
  },
  {
   "cell_type": "code",
   "execution_count": null,
   "id": "acc528ec",
   "metadata": {},
   "outputs": [],
   "source": [
    "import pandas as pd\n",
    "import plotly.offline as pyo\n",
    "import plotly.graph_objs as go\n",
    "\n"
   ]
  },
  {
   "cell_type": "code",
   "execution_count": 22,
   "id": "014075b2",
   "metadata": {
    "ExecuteTime": {
     "end_time": "2022-12-29T13:31:18.930152Z",
     "start_time": "2022-12-29T13:31:18.926687Z"
    }
   },
   "outputs": [
    {
     "data": {
      "text/plain": [
       "'/home/tw/tmp/Python/1_Visual/Untitled Folder'"
      ]
     },
     "execution_count": 22,
     "metadata": {},
     "output_type": "execute_result"
    }
   ],
   "source": []
  },
  {
   "cell_type": "code",
   "execution_count": null,
   "id": "110ec5c9",
   "metadata": {},
   "outputs": [],
   "source": []
  }
 ],
 "metadata": {
  "kernelspec": {
   "display_name": "Python 3",
   "language": "python",
   "name": "python3"
  },
  "language_info": {
   "codemirror_mode": {
    "name": "ipython",
    "version": 3
   },
   "file_extension": ".py",
   "mimetype": "text/x-python",
   "name": "python",
   "nbconvert_exporter": "python",
   "pygments_lexer": "ipython3",
   "version": "3.8.10"
  },
  "toc": {
   "base_numbering": 1,
   "nav_menu": {
    "height": "909px",
    "width": "160px"
   },
   "number_sections": true,
   "sideBar": true,
   "skip_h1_title": false,
   "title_cell": "Table of Contents",
   "title_sidebar": "Contents",
   "toc_cell": false,
   "toc_position": {},
   "toc_section_display": true,
   "toc_window_display": false
  },
  "widgets": {
   "application/vnd.jupyter.widget-state+json": {
    "state": {},
    "version_major": 2,
    "version_minor": 0
   }
  }
 },
 "nbformat": 4,
 "nbformat_minor": 5
}
