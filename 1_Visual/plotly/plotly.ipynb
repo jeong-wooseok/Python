{
 "cells": [
  {
   "cell_type": "code",
   "execution_count": 1,
   "id": "52d399cb",
   "metadata": {
    "ExecuteTime": {
     "end_time": "2022-12-29T12:58:45.089870Z",
     "start_time": "2022-12-29T12:58:35.479587Z"
    }
   },
   "outputs": [
    {
     "name": "stdout",
     "output_type": "stream",
     "text": [
      "Collecting plotly\n",
      "  Downloading plotly-5.11.0-py2.py3-none-any.whl (15.3 MB)\n",
      "\u001b[K     |████████████████████████████████| 15.3 MB 4.3 MB/s eta 0:00:01\n",
      "\u001b[?25hCollecting tenacity>=6.2.0\n",
      "  Downloading tenacity-8.1.0-py3-none-any.whl (23 kB)\n",
      "Installing collected packages: tenacity, plotly\n",
      "Successfully installed plotly-5.11.0 tenacity-8.1.0\n"
     ]
    }
   ],
   "source": [
    "# !pip install plotly"
   ]
  },
  {
   "cell_type": "markdown",
   "id": "2a44b8f0",
   "metadata": {},
   "source": [
    "## 기본 플럿 생성"
   ]
  },
  {
   "cell_type": "code",
   "execution_count": 7,
   "id": "7eec1fb8",
   "metadata": {
    "ExecuteTime": {
     "end_time": "2022-12-29T13:06:56.780024Z",
     "start_time": "2022-12-29T13:06:56.750612Z"
    }
   },
   "outputs": [
    {
     "data": {
      "text/plain": [
       "'scatter.html'"
      ]
     },
     "execution_count": 7,
     "metadata": {},
     "output_type": "execute_result"
    }
   ],
   "source": [
    "import numpy as np\n",
    "import plotly.offline as pyo\n",
    "import plotly.graph_objs as go\n",
    "\n",
    "np.random.seed(42)\n",
    "random_x = np.random.randint(1,101,100)\n",
    "random_y = np.random.randint(1,101,100)\n",
    "\n",
    "data = [go.Scatter(x=random_x,\n",
    "                  y=random_y,\n",
    "                  mode='markers')]\n",
    "\n",
    "pyo.plot(data,filename='scatter.html')"
   ]
  },
  {
   "cell_type": "code",
   "execution_count": 11,
   "id": "a157426f",
   "metadata": {
    "ExecuteTime": {
     "end_time": "2022-12-29T13:09:58.749272Z",
     "start_time": "2022-12-29T13:09:58.718177Z"
    }
   },
   "outputs": [
    {
     "data": {
      "text/plain": [
       "'scatter1.html'"
      ]
     },
     "execution_count": 11,
     "metadata": {},
     "output_type": "execute_result"
    }
   ],
   "source": [
    "import numpy as np\n",
    "import plotly.offline as pyo\n",
    "import plotly.graph_objs as go\n",
    "\n",
    "np.random.seed(42)\n",
    "random_x = np.random.randint(1,101,100)\n",
    "random_y = np.random.randint(1,101,100)\n",
    "\n",
    "data = [go.Scatter(x=random_x,\n",
    "                  y=random_y,\n",
    "                  mode='markers',\n",
    "                  marker =dict(\n",
    "                  size=12,\n",
    "                  color='rgb(51,204,153)',\n",
    "                  symbol='pentagon',\n",
    "                  line={'width':2}\n",
    "                  ))]\n",
    "# 레이아웃에 타이틀, xaxis, yaxis 등 넣어주고\n",
    "layout = go.Layout(title='First plot',\n",
    "                  xaxis={'title':'My X Axis'},\n",
    "                  yaxis=dict(title='My Y Axis'),\n",
    "                  hovermode = 'closest')\n",
    "# fig에 데이터, 레이아웃 담고\n",
    "fig = go.Figure(data=data, layout=layout)\n",
    "# fig출력\n",
    "pyo.plot(fig,filename='scatter1.html')"
   ]
  },
  {
   "cell_type": "markdown",
   "id": "01b3638d",
   "metadata": {},
   "source": [
    "## 라인 차트"
   ]
  },
  {
   "cell_type": "code",
   "execution_count": 20,
   "id": "4746e75a",
   "metadata": {
    "ExecuteTime": {
     "end_time": "2022-12-29T13:28:10.096640Z",
     "start_time": "2022-12-29T13:28:10.069923Z"
    }
   },
   "outputs": [
    {
     "data": {
      "text/plain": [
       "'temp-plot.html'"
      ]
     },
     "execution_count": 20,
     "metadata": {},
     "output_type": "execute_result"
    }
   ],
   "source": [
    "import numpy as np\n",
    "import plotly.offline as pyo\n",
    "import plotly.graph_objs as go\n",
    "\n",
    "np.random.seed(56)\n",
    "x_values = np.linspace(0,1,100)\n",
    "y_values = np.random.randn(100)\n",
    "\n",
    "trace = go.Scatter(x = x_values, y=y_values+5,\n",
    "                  mode='markers',name='markers')\n",
    "\n",
    "data = [trace]\n",
    "\n",
    "layout = go.Layout(title = 'Line Charts')\n",
    "\n",
    "fig = go.Figure(data=data, layout=layout)\n",
    "\n",
    "pyo.plot(fig)"
   ]
  },
  {
   "cell_type": "code",
   "execution_count": 21,
   "id": "4d05bf5d",
   "metadata": {
    "ExecuteTime": {
     "end_time": "2022-12-29T13:28:10.345662Z",
     "start_time": "2022-12-29T13:28:10.317039Z"
    }
   },
   "outputs": [
    {
     "data": {
      "text/plain": [
       "'temp-plot2.html'"
      ]
     },
     "execution_count": 21,
     "metadata": {},
     "output_type": "execute_result"
    }
   ],
   "source": [
    "import numpy as np\n",
    "import plotly.offline as pyo\n",
    "import plotly.graph_objs as go\n",
    "\n",
    "np.random.seed(56)\n",
    "x_values = np.linspace(0,1,100)\n",
    "y_values = np.random.randn(100)\n",
    "\n",
    "trace0 = go.Scatter(x = x_values, y=y_values+5,\n",
    "                  mode='markers',name='markers')\n",
    "trace1 = go.Scatter(x = x_values, y=y_values,\n",
    "                  mode='lines',name='mylines')\n",
    "trace2 = go.Scatter(x = x_values, y=y_values-5,\n",
    "                  mode='lines',name='mylines')\n",
    "\n",
    "data = [trace0, trace1,trace2]\n",
    "\n",
    "layout = go.Layout(title = 'Line Charts')\n",
    "\n",
    "fig = go.Figure(data=data, layout=layout)\n",
    "\n",
    "pyo.plot(fig,filename='temp-plot2.html')"
   ]
  },
  {
   "cell_type": "markdown",
   "id": "ea79e536",
   "metadata": {},
   "source": [
    "## 데이터로 만들기"
   ]
  },
  {
   "cell_type": "code",
   "execution_count": null,
   "id": "a33eaeb9",
   "metadata": {},
   "outputs": [],
   "source": [
    "import pandas as pd\n",
    "import plotly.offline as pyo\n",
    "import plotly.graph_objs as go\n",
    "\n"
   ]
  },
  {
   "cell_type": "code",
   "execution_count": 22,
   "id": "5ac58965",
   "metadata": {
    "ExecuteTime": {
     "end_time": "2022-12-29T13:31:18.930152Z",
     "start_time": "2022-12-29T13:31:18.926687Z"
    }
   },
   "outputs": [
    {
     "data": {
      "text/plain": [
       "'/home/tw/tmp/Python/1_Visual/Untitled Folder'"
      ]
     },
     "execution_count": 22,
     "metadata": {},
     "output_type": "execute_result"
    }
   ],
   "source": [
    "pwd"
   ]
  },
  {
   "cell_type": "code",
   "execution_count": null,
   "id": "764e5ae5",
   "metadata": {},
   "outputs": [],
   "source": []
  }
 ],
 "metadata": {
  "kernelspec": {
   "display_name": "Python 3",
   "language": "python",
   "name": "python3"
  },
  "language_info": {
   "codemirror_mode": {
    "name": "ipython",
    "version": 3
   },
   "file_extension": ".py",
   "mimetype": "text/x-python",
   "name": "python",
   "nbconvert_exporter": "python",
   "pygments_lexer": "ipython3",
   "version": "3.8.10"
  },
  "toc": {
   "base_numbering": 1,
   "nav_menu": {
    "height": "909px",
    "width": "160px"
   },
   "number_sections": true,
   "sideBar": true,
   "skip_h1_title": false,
   "title_cell": "Table of Contents",
   "title_sidebar": "Contents",
   "toc_cell": false,
   "toc_position": {},
   "toc_section_display": true,
   "toc_window_display": false
  }
 },
 "nbformat": 4,
 "nbformat_minor": 5
}
