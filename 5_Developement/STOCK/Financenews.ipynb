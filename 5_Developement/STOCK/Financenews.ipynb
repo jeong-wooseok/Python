{
 "cells": [
  {
   "cell_type": "code",
   "execution_count": null,
   "metadata": {},
   "outputs": [],
   "source": [
    "import requests\n",
    "import pandas as pd\n",
    "from bs4 import BeautifulSoup as bs\n",
    "import time\n",
    "\n",
    "url ='https://tradingeconomics.com/'\n",
    "html = requests.get(url).text\n",
    "soup = bs(html,'html.parser')\n",
    "head = soup.find('div', {\"class\": \"col-md-7\"}).text.split('\\r\\n                    ')[1].split('\\r\\n                  \\n')\n",
    "articles = soup.find_all('div', {\"class\": \"home-tile-inside\"})\n",
    "news = [a.text.split('\\n') for a in  articles]\n",
    "\n",
    "t = []\n",
    "c = []\n",
    "news_d=dict()\n",
    "\n",
    "t.append(head[0])\n",
    "c.append(head[1])\n",
    "\n",
    "for i  in news:\n",
    "    for idx, j in enumerate(i):\n",
    "        if idx%len(i) == 1: t.append(j)\n",
    "        elif idx%len(i) == 2: c.append(j)\n",
    "            \n",
    "file = time.strftime('%Y_%m_%d', time.localtime(time.time()))\n",
    "news_d['title'] = t   \n",
    "news_d['contents'] = c \n",
    "news_df = pd.DataFrame(news_d)\n",
    "news_df.to_csv(f'{file}.csv')\n",
    "news_df"
   ]
  },
  {
   "cell_type": "code",
   "execution_count": null,
   "metadata": {},
   "outputs": [],
   "source": []
  },
  {
   "cell_type": "code",
   "execution_count": null,
   "metadata": {},
   "outputs": [],
   "source": []
  }
 ],
 "metadata": {
  "kernelspec": {
   "display_name": "Python 3",
   "language": "python",
   "name": "python3"
  },
  "language_info": {
   "codemirror_mode": {
    "name": "ipython",
    "version": 3
   },
   "file_extension": ".py",
   "mimetype": "text/x-python",
   "name": "python",
   "nbconvert_exporter": "python",
   "pygments_lexer": "ipython3",
   "version": "3.8.5"
  }
 },
 "nbformat": 4,
 "nbformat_minor": 4
}
