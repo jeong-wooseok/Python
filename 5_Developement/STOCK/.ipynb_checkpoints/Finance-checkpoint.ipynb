{
 "cells": [
  {
   "cell_type": "code",
   "execution_count": null,
   "metadata": {},
   "outputs": [],
   "source": [
    "import FinanceDataReader as fdr\n",
    "\n",
    "# 파일 저장 폴더생성\n",
    "import os\n",
    "PROJECT_ROOT_DIR = \"./Stocks_output\"\n",
    "CHAPTER_ID = \"ETF_KR\"\n",
    "SAMPLES_PATH = os.path.join(PROJECT_ROOT_DIR, \"samples\", CHAPTER_ID)\n",
    "os.makedirs(SAMPLES_PATH, exist_ok=True)\n",
    "\n",
    "#파일 경로 생성함수\n",
    "def mkfile(file):\n",
    "    PROJECT_ROOT_DIR = \"./Stocks_output\"\n",
    "    CHAPTER_ID = \"fdr_output\"\n",
    "    PATH = os.path.join(PROJECT_ROOT_DIR, \"samples\", CHAPTER_ID)\n",
    "    file_o = os.path.join(SAMPLES_PATH,f'{file}.xlsx')\n",
    "    return file_o\n",
    "\n",
    "# 그림을 저장할 위치\n",
    "PROJECT_ROOT_DIR = \"./Stocks_output\"\n",
    "CHAPTER_ID = \"fdr_output\"\n",
    "IMAGES_PATH = os.path.join(PROJECT_ROOT_DIR, \"images\", CHAPTER_ID)\n",
    "os.makedirs(IMAGES_PATH, exist_ok=True)\n",
    "\n",
    "def save_fig(fig_id, tight_layout=True, fig_extension=\"png\", resolution=300):\n",
    "    PROJECT_ROOT_DIR = \"./Stocks_output\"\n",
    "    CHAPTER_ID = \"fdr_output\"\n",
    "    IMAGES_PATH = os.path.join(PROJECT_ROOT_DIR, \"images\", CHAPTER_ID)\n",
    "    path = os.path.join(IMAGES_PATH, fig_id + \".\" + fig_extension)\n",
    "    print(\"그림 저장:\", fig_id)\n",
    "    if tight_layout:\n",
    "        plt.tight_layout()\n",
    "    plt.savefig(path, format=fig_extension, dpi=resolution)\n",
    "\n",
    "# 결측치제거 및 scaling\n",
    "def scale(df):\n",
    "    from sklearn.preprocessing import MinMaxScaler\n",
    "    import pandas as pd\n",
    "    df = df.fillna(method='pad').dropna(axis=0)\n",
    "    scaler = MinMaxScaler()\n",
    "    scaler.fit(df)\n",
    "    output = scaler.transform(df)\n",
    "    output = pd.DataFrame(output, columns=df.columns, index=df.index.values)\n",
    "    return output"
   ]
  }
 ],
 "metadata": {
  "kernelspec": {
   "display_name": "Python 3",
   "language": "python",
   "name": "python3"
  },
  "language_info": {
   "codemirror_mode": {
    "name": "ipython",
    "version": 3
   },
   "file_extension": ".py",
   "mimetype": "text/x-python",
   "name": "python",
   "nbconvert_exporter": "python",
   "pygments_lexer": "ipython3",
   "version": "3.8.5"
  }
 },
 "nbformat": 4,
 "nbformat_minor": 4
}
