{
 "cells": [
  {
   "cell_type": "markdown",
   "metadata": {},
   "source": [
    "Fred에서 끌어오기\n",
    "\n",
    "[참고 사이트 : FRED](https://fred.stlouisfed.org/docs/api/fred/)"
   ]
  },
  {
   "cell_type": "code",
   "execution_count": 174,
   "metadata": {},
   "outputs": [
    {
     "name": "stdout",
     "output_type": "stream",
     "text": [
      "List of 13\n",
      " $ realtime_start   : chr \"2021-01-17\"\n",
      " $ realtime_end     : chr \"2021-01-17\"\n",
      " $ observation_start: chr \"1600-01-01\"\n",
      " $ observation_end  : chr \"9999-12-31\"\n",
      " $ units            : chr \"lin\"\n",
      " $ output_type      : int 1\n",
      " $ file_type        : chr \"json\"\n",
      " $ order_by         : chr \"observation_date\"\n",
      " $ sort_order       : chr \"asc\"\n",
      " $ count            : int 888\n",
      " $ offset           : int 0\n",
      " $ limit            : int 100000\n",
      " $ observations     :'data.frame':\t888 obs. of  4 variables:\n",
      "  ..$ realtime_start: chr [1:888] \"2021-01-17\" \"2021-01-17\" \"2021-01-17\" \"2021-01-17\" ...\n",
      "  ..$ realtime_end  : chr [1:888] \"2021-01-17\" \"2021-01-17\" \"2021-01-17\" \"2021-01-17\" ...\n",
      "  ..$ date          : chr [1:888] \"1947-01-01\" \"1947-02-01\" \"1947-03-01\" \"1947-04-01\" ...\n",
      "  ..$ value         : chr [1:888] \"21.48\" \"21.62\" \"22.0\" \"22.0\" ...\n"
     ]
    }
   ],
   "source": [
    "#OPEN API를 이용한 FRED 자료 입수\n",
    "#1개를 가져오는 SAMPLE\n",
    "series_id <- \"CPIAUCSL\" #소비자 물가지수(SA)\n",
    "api_key <- \"6e866fceb4cbe64a36b95c7953f33c17\"\n",
    "file_type <-\"json\"\n",
    "\n",
    "url = paste0(\"http://api.stlouisfed.org/fred/series/observations\",\n",
    "             \"?series_id=\",series_id,\n",
    "             \"&api_key=\",api_key,\n",
    "             \"&file_type=\",file_type)\n",
    "\n",
    "raw.data <- readLines(url, warn = \"F\",encoding=\"UTF-8\")\n",
    "dat<- fromJSON(raw.data)\n",
    "str(dat)"
   ]
  },
  {
   "cell_type": "markdown",
   "metadata": {},
   "source": [
    "ECOS에서 끌어오기\n",
    "\n",
    "[참고 사이트 : ECOS](https://ecos.bok.or.kr/jsp/openapi/OpenApiController.jsp?t=guideServiceDtl&apiCode=OA-1040&menuGroup=MENU000004)"
   ]
  },
  {
   "cell_type": "code",
   "execution_count": 118,
   "metadata": {},
   "outputs": [
    {
     "name": "stdout",
     "output_type": "stream",
     "text": [
      "List of 1\n",
      " $ StatisticSearch:List of 2\n",
      "  ..$ list_total_count: int 74790\n",
      "  ..$ row             :'data.frame':\t100 obs. of  11 variables:\n",
      "  .. ..$ UNIT_NAME : chr [1:100] \"2015=100\" \"2015=100\" \"2015=100\" \"2015=100\" ...\n",
      "  .. ..$ STAT_NAME : chr [1:100] \"7.4.1 소비자물가지수(2015=100)(전국)\" \"7.4.1 소비자물가지수(2015=100)(전국)\" \"7.4.1 소비자물가지수(2015=100)(전국)\" \"7.4.1 소비자물가지수(2015=100)(전국)\" ...\n",
      "  .. ..$ ITEM_CODE1: chr [1:100] \"0\" \"0\" \"0\" \"0\" ...\n",
      "  .. ..$ STAT_CODE : chr [1:100] \"021Y125\" \"021Y125\" \"021Y125\" \"021Y125\" ...\n",
      "  .. ..$ ITEM_CODE2: chr [1:100] \" \" \" \" \" \" \" \" ...\n",
      "  .. ..$ ITEM_CODE3: chr [1:100] \" \" \" \" \" \" \" \" ...\n",
      "  .. ..$ ITEM_NAME1: chr [1:100] \"총지수\" \"총지수\" \"총지수\" \"총지수\" ...\n",
      "  .. ..$ ITEM_NAME2: chr [1:100] \" \" \" \" \" \" \" \" ...\n",
      "  .. ..$ DATA_VALUE: chr [1:100] \"89.974\" \"90.156\" \"90.338\" \"90.702\" ...\n",
      "  .. ..$ ITEM_NAME3: chr [1:100] \" \" \" \" \" \" \" \" ...\n",
      "  .. ..$ TIME      : chr [1:100] \"201001\" \"201002\" \"201003\" \"201004\" ...\n"
     ]
    }
   ],
   "source": [
    "#OPEN API를 이용한 ECOS 자료 입수\n",
    "#1개를 가져오는 SAMPLE\n",
    "api_key = \"JYWDZURGKQQFBLAM4ZMT/\"\n",
    "file_type = \"json/\"\n",
    "lang_type = \"kr/\"\n",
    "start_no = \"1/\"\n",
    "end_no =\"100/\"\n",
    "stat_code = \"021Y125/\" #개인대출 008Y002\n",
    "cycle_type = \"MM/\"\n",
    "start_date = \"201001/\"\n",
    "end_date = \"202010/\"\n",
    "option =\"?/?/?/\"\n",
    "# item_no = \"33\"\n",
    "\n",
    "url = paste0(\"http://ecos.bok.or.kr/api/StatisticSearch/\",\n",
    "             api_key,file_type,lang_type,start_no,end_no,\n",
    "             stat_code,cycle_type,start_date,end_date,option)\n",
    "\n",
    "raw.data <- readLines(url, warn = \"F\",encoding=\"UTF-8\")\n",
    "dat<- fromJSON(raw.data)\n",
    "str(dat)"
   ]
  },
  {
   "cell_type": "code",
   "execution_count": 158,
   "metadata": {},
   "outputs": [],
   "source": [
    "#2개이상의 시계열을 만들어 모형 분석\n",
    "library(zoo)\n",
    "lst_series <- list(\"021Y125\",\"008Y002\") #소비자 물가지수,실업률, 기준금리(FF Rate)\n",
    "api_key <- \"JYWDZURGKQQFBLAM4ZMT/\"\n",
    "file_type = \"json/\"\n",
    "lang_type = \"kr/\"\n",
    "start_no = \"1/\"\n",
    "end_no =\"100/\"\n",
    "cycle_type = \"MM/\"\n",
    "start_date = \"201001/\"\n",
    "end_date = \"202010/\"\n",
    "option =\"?/?/?/\"\n",
    "\n",
    "ts<-zoo()\n",
    "for(i in 1:length(lst_series)){\n",
    "    url = paste0(\"http://ecos.bok.or.kr/api/StatisticSearch/\",\n",
    "                 api_key,file_type,lang_type,start_no,end_no,\n",
    "                 lst_series[i],'/',cycle_type,start_date,end_date,option)\n",
    "  raw.data <- readLines(url, warn = \"F\",encoding=\"UTF-8\")\n",
    "  dat<- fromJSON(raw.data)\n",
    "  temp<-zoo(as.numeric(dat$StatisticSearch$row$DATA_VALUE),as.numeric(dat$StatisticSearch$row$TIME))\n",
    "  if(i==1){\n",
    "    ts<-temp\n",
    "  }else{\n",
    "    ts<-na.locf(merge(ts,temp)) \n",
    "    colnames(ts)[i]<-lst_series[i]\n",
    "  }\n",
    "}\n",
    "colnames(ts)[1] <- lst_series[1] #첫번째 컬럼이름을 정의"
   ]
  },
  {
   "cell_type": "code",
   "execution_count": 173,
   "metadata": {},
   "outputs": [
    {
     "data": {
      "image/png": "[encoded data removed]",
      "text/plain": [
       "Plot with title \"021Y125\""
      ]
     },
     "metadata": {
      "image/png": {
       "height": 420,
       "width": 420
      }
     },
     "output_type": "display_data"
    },
    {
     "data": {
      "text/plain": [
       "\n",
       "Call:\n",
       "lm(formula = X008Y002 ~ X021Y125, data = df)\n",
       "\n",
       "Residuals:\n",
       "   Min     1Q Median     3Q    Max \n",
       "-75437 -42237  -9226  50706  96100 \n",
       "\n",
       "Coefficients:\n",
       "            Estimate Std. Error t value Pr(>|t|)    \n",
       "(Intercept) -2416702     135679  -17.81   <2e-16 ***\n",
       "X021Y125       32067       1380   23.23   <2e-16 ***\n",
       "---\n",
       "Signif. codes:  0 '***' 0.001 '**' 0.01 '*' 0.05 '.' 0.1 ' ' 1\n",
       "\n",
       "Residual standard error: 50790 on 98 degrees of freedom\n",
       "Multiple R-squared:  0.8463,\tAdjusted R-squared:  0.8447 \n",
       "F-statistic: 539.6 on 1 and 98 DF,  p-value: < 2.2e-16\n"
      ]
     },
     "metadata": {},
     "output_type": "display_data"
    },
    {
     "data": {
      "image/png": "[encoded data removed]",
      "text/plain": [
       "plot without title"
      ]
     },
     "metadata": {
      "image/png": {
       "height": 420,
       "width": 420
      }
     },
     "output_type": "display_data"
    }
   ],
   "source": [
    "#1차차분\n",
    "ts.diff1 <- diff(ts,lag=1)\n",
    "\n",
    "#ACF(autocorrelation) 플롯\n",
    "acf(as.numeric(ts.diff1[,1]),main=colnames(ts)[1])\n",
    "\n",
    "#전기대비 증감\n",
    "ts.rate <-ts.diff1/ts\n",
    "\n",
    "#dataframe으로 변환\n",
    "df<-data.frame(ts)\n",
    "\n",
    "#Plot 그리기\n",
    "plot(x=rownames(df),y=df[,1],type=\"l\",\n",
    "     xlab=\"TIME\",ylab=colnames(df)[1])\n",
    "\n",
    "# #회귀분석\n",
    "summary(lm(X008Y002~X021Y125, data=df))"
   ]
  },
  {
   "cell_type": "code",
   "execution_count": 127,
   "metadata": {},
   "outputs": [],
   "source": [
    "#2개이상의 시계열을 만들어 모형 분석\n",
    "library(zoo)\n",
    "lst_series <- list(\"CPIAUCSL\",\"UNRATE\",\"FEDFUNDS\") #소비자 물가지수,실업률, 기준금리(FF Rate)\n",
    "api_key <- \"6e866fceb4cbe64a36b95c7953f33c17\"\n",
    "file_type <-\"json\"\n",
    "\n",
    "ts<-zoo()\n",
    "for(i in 1:length(lst_series)){\n",
    "  url = paste0(\"http://api.stlouisfed.org/fred/series/observations\",\n",
    "               \"?series_id=\",lst_series[i],\n",
    "               \"&api_key=\",api_key,\n",
    "               \"&file_type=\",file_type)\n",
    "  raw.data <- readLines(url, warn = \"F\",encoding=\"UTF-8\")\n",
    "  dat<- fromJSON(raw.data)\n",
    "  temp<-zoo(as.numeric(dat$observations$value),as.Date(c(dat$observations$date)))\n",
    "  if(i==1){\n",
    "    ts<-temp\n",
    "  }else{\n",
    "    ts<-na.locf(merge(ts,temp)) \n",
    "    colnames(ts)[i]<-lst_series[i]\n",
    "  }\n",
    "}\n",
    "colnames(ts)[1] <- lst_series[1] #첫번째 컬럼이름을 정의"
   ]
  },
  {
   "cell_type": "code",
   "execution_count": 37,
   "metadata": {},
   "outputs": [
    {
     "data": {
      "image/png": "[encoded data removed]",
      "text/plain": [
       "Plot with title \"CPIAUCSL\""
      ]
     },
     "metadata": {
      "image/png": {
       "height": 420,
       "width": 420
      }
     },
     "output_type": "display_data"
    },
    {
     "data": {
      "text/plain": [
       "\n",
       "Call:\n",
       "lm(formula = CPIAUCSL ~ UNRATE + FEDFUNDS, data = df)\n",
       "\n",
       "Residuals:\n",
       "    Min      1Q  Median      3Q     Max \n",
       "-139.38  -72.24   15.25   53.46  129.55 \n",
       "\n",
       "Coefficients:\n",
       "            Estimate Std. Error t value Pr(>|t|)    \n",
       "(Intercept)  123.268      9.633  12.797  < 2e-16 ***\n",
       "UNRATE         6.801      1.500   4.535 6.63e-06 ***\n",
       "FEDFUNDS      -8.840      0.689 -12.831  < 2e-16 ***\n",
       "---\n",
       "Signif. codes:  0 '***' 0.001 '**' 0.01 '*' 0.05 '.' 0.1 ' ' 1\n",
       "\n",
       "Residual standard error: 70.07 on 795 degrees of freedom\n",
       "Multiple R-squared:  0.1846,\tAdjusted R-squared:  0.1825 \n",
       "F-statistic: 89.98 on 2 and 795 DF,  p-value: < 2.2e-16\n"
      ]
     },
     "metadata": {},
     "output_type": "display_data"
    },
    {
     "data": {
      "image/png": "[encoded data removed]",
      "text/plain": [
       "plot without title"
      ]
     },
     "metadata": {
      "image/png": {
       "height": 420,
       "width": 420
      }
     },
     "output_type": "display_data"
    }
   ],
   "source": [
    "#NA값 제거 \n",
    "ts<-ts[!is.na(ts[,3]),]\n",
    "\n",
    "#1차차분\n",
    "ts.diff1 <- diff(ts,lag=1)\n",
    "\n",
    "#ACF(autocorrelation) 플롯\n",
    "acf(as.numeric(ts.diff1[,1]),main=colnames(ts)[1])\n",
    "\n",
    "#전기대비 증감\n",
    "ts.rate <-ts.diff1/ts\n",
    "\n",
    "#dataframe으로 변환\n",
    "df<-data.frame(ts)\n",
    "\n",
    "#Plot 그리기\n",
    "plot(x=as.Date(rownames(df)),y=df[,1],type=\"l\",\n",
    "     xlab=\"date\",ylab=colnames(df)[1])\n",
    "\n",
    "#회귀분석\n",
    "summary(lm(CPIAUCSL~UNRATE+FEDFUNDS, data=df))"
   ]
  },
  {
   "cell_type": "code",
   "execution_count": null,
   "metadata": {},
   "outputs": [],
   "source": [
    "key ='6e866fceb4cbe64a36b95c7953f33c17'\n",
    "kfred ='6e866fceb4cbe64a36b95c7953f33c17'\n",
    "kbok = 'JYWDZURGKQQFBLAM4ZMT'"
   ]
  }
 ],
 "metadata": {
  "kernelspec": {
   "display_name": "R",
   "language": "R",
   "name": "ir"
  },
  "language_info": {
   "codemirror_mode": "r",
   "file_extension": ".r",
   "mimetype": "text/x-r-source",
   "name": "R",
   "pygments_lexer": "r",
   "version": "4.0.3"
  }
 },
 "nbformat": 4,
 "nbformat_minor": 4
}
