{
 "cells": [
  {
   "cell_type": "markdown",
   "metadata": {},
   "source": [
    "1. QR 코드 만들어주기 <br>\n",
    "[참고링크]('https://pypi.org/project/qrcode/')"
   ]
  },
  {
   "cell_type": "code",
   "execution_count": 3,
   "metadata": {},
   "outputs": [
    {
     "ename": "ModuleNotFoundError",
     "evalue": "No module named 'qrcode'",
     "output_type": "error",
     "traceback": [
      "\u001b[1;31m---------------------------------------------------------------------------\u001b[0m",
      "\u001b[1;31mModuleNotFoundError\u001b[0m                       Traceback (most recent call last)",
      "Cell \u001b[1;32mIn [3], line 2\u001b[0m\n\u001b[0;32m      1\u001b[0m \u001b[39mimport\u001b[39;00m \u001b[39mos\u001b[39;00m \n\u001b[1;32m----> 2\u001b[0m \u001b[39mimport\u001b[39;00m \u001b[39mqrcode\u001b[39;00m \n\u001b[0;32m      3\u001b[0m get_ipython()\u001b[39m.\u001b[39msystem(\u001b[39m'\u001b[39m\u001b[39mpip install qrcode\u001b[39m\u001b[39m'\u001b[39m)\n\u001b[0;32m      6\u001b[0m url_b \u001b[39m=\u001b[39m \u001b[39minput\u001b[39m(\u001b[39m\"\u001b[39m\u001b[39mQR코드 만들 주소 입력\u001b[39m\u001b[39m\"\u001b[39m)\n",
      "\u001b[1;31mModuleNotFoundError\u001b[0m: No module named 'qrcode'"
     ]
    }
   ],
   "source": [
    "import os \n",
    "import qrcode \n",
    "!pip install qrcode\n",
    "\n",
    "\n",
    "url_b = input(\"QR코드 만들 주소 입력\")\n",
    "img_path_b = input(\"이미지 이름 입력\")\n",
    "\n",
    "url = r\"{}\".format(url_b)\n",
    "img_path = r\"./{}.png\".format(img_path_b)\n",
    "if os.path.exists(img_path): os.remove(img_path)\n",
    "\n",
    "qr = qrcode.QRCode( \n",
    "    version=1, \n",
    "    error_correction=qrcode.constants.ERROR_CORRECT_L, \n",
    "    box_size=20, border=10, ) \n",
    "qr.add_data(url) \n",
    "qr.make(fit=True) \n",
    "img = qr.make_image(fill_color=\"black\", back_color=\"white\") \n",
    "\n",
    "# 저장폴더 확인 후 만들어주기\n",
    "path = './QRCode'\n",
    "os.makedirs(path, exist_ok=True)\n",
    "\n",
    "img.save(f'{path}/{img_path.split(\"/\")[1]}')"
   ]
  },
  {
   "cell_type": "markdown",
   "metadata": {},
   "source": [
    "2. 단일 QR 코드 생성 함수 "
   ]
  },
  {
   "cell_type": "code",
   "execution_count": 1,
   "metadata": {},
   "outputs": [],
   "source": [
    "#pip install qrcode\n",
    "\n",
    "def qr(url_b,img_path_b):\n",
    "    import os \n",
    "    import qrcode\n",
    "    \n",
    "    url = r\"{}\".format(url_b)\n",
    "    img_path = r\"./{}.png\".format(img_path_b)\n",
    "    if os.path.exists(img_path): os.remove(img_path)\n",
    "\n",
    "    qr = qrcode.QRCode( \n",
    "        version=1, \n",
    "        error_correction=qrcode.constants.ERROR_CORRECT_L, \n",
    "        box_size=20, border=10, ) \n",
    "    qr.add_data(url) \n",
    "    qr.make(fit=True) \n",
    "    img = qr.make_image(fill_color=\"black\", back_color=\"white\") \n",
    "\n",
    "    # 저장폴더 확인 후 만들어주기\n",
    "    path = './QRCode'\n",
    "    os.makedirs(path, exist_ok=True)\n",
    "\n",
    "    img.save(f'{path}/{img_path.split(\"/\")[1]}')"
   ]
  },
  {
   "cell_type": "code",
   "execution_count": 2,
   "metadata": {},
   "outputs": [],
   "source": [
    "qr('naver.com','네이버')"
   ]
  },
  {
   "cell_type": "markdown",
   "metadata": {},
   "source": [
    "3. 다중 QR코드 생성 함수"
   ]
  },
  {
   "cell_type": "code",
   "execution_count": 3,
   "metadata": {},
   "outputs": [],
   "source": [
    "def call(num):\n",
    "    urls = []\n",
    "    names = []\n",
    "    for i in range(num):\n",
    "        url_b = input(f\"{i+1}번째 QR코드 만들 이미지 주소 입력\")\n",
    "        img_path_b = input(f\"{i+1}번째 이미지 이름 입력\")\n",
    "        urls.append(r\"{}\".format(url_b))\n",
    "        names.append(r\"{}\".format(img_path_b))\n",
    "    return urls, names"
   ]
  },
  {
   "cell_type": "code",
   "execution_count": 4,
   "metadata": {},
   "outputs": [],
   "source": [
    "def multi(num):\n",
    "    m_list = call(num)\n",
    "#     print(m_list[0][0],m_list[1][0])\n",
    "    for i in range(num):\n",
    "        qr(m_list[0][i],m_list[1][i])        "
   ]
  },
  {
   "cell_type": "code",
   "execution_count": 5,
   "metadata": {},
   "outputs": [
    {
     "name": "stdout",
     "output_type": "stream",
     "text": [
      "1번째 QR코드 만들 이미지 주소 입력 daum.net\n",
      "1번째 이미지 이름 입력 다음\n",
      "2번째 QR코드 만들 이미지 주소 입력 google.com\n",
      "2번째 이미지 이름 입력 구글\n"
     ]
    }
   ],
   "source": [
    "multi(2)"
   ]
  },
  {
   "cell_type": "code",
   "execution_count": null,
   "metadata": {},
   "outputs": [],
   "source": []
  }
 ],
 "metadata": {
  "kernelspec": {
   "display_name": "Python 3.9.12 ('base')",
   "language": "python",
   "name": "python3"
  },
  "language_info": {
   "codemirror_mode": {
    "name": "ipython",
    "version": 3
   },
   "file_extension": ".py",
   "mimetype": "text/x-python",
   "name": "python",
   "nbconvert_exporter": "python",
   "pygments_lexer": "ipython3",
   "version": "3.9.12"
  },
  "vscode": {
   "interpreter": {
    "hash": "19d1d53a962d236aa061289c2ac16dc8e6d9648c89fe79f459ae9a3493bc67b4"
   }
  }
 },
 "nbformat": 4,
 "nbformat_minor": 4
}
