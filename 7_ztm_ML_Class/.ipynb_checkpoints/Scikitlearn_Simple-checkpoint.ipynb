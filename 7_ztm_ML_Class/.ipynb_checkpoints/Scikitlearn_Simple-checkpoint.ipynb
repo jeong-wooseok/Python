{
 "cells": [
  {
   "cell_type": "markdown",
   "id": "e66126b8-4d6b-4dd1-bd10-7beb7bbb94a7",
   "metadata": {
    "tags": []
   },
   "source": [
    "## Standard Library imports"
   ]
  },
  {
   "cell_type": "code",
   "execution_count": 54,
   "id": "a6422810-9f5e-47db-a915-c1a20de17b62",
   "metadata": {
    "tags": []
   },
   "outputs": [],
   "source": [
    "%matplotlib inline\n",
    "import matplotlib.pyplot as plt\n",
    "import numpy as np\n",
    "import pandas as pd\n",
    "import warnings\n",
    "warnings.filterwarnings(\"ignore\") # ignore, default"
   ]
  },
  {
   "cell_type": "markdown",
   "id": "da7f92ac-751b-465d-91a5-95c166e6458d",
   "metadata": {
    "tags": []
   },
   "source": [
    "We'll use 2 datasets for demonstation purpose\n",
    "* heart_disease - a classification dataset (predicting whether someone has heart disease or not)\n",
    "* boston_df - a regression dataset (predicting the median house prices of cities in Boston)"
   ]
  },
  {
   "cell_type": "code",
   "execution_count": 55,
   "id": "86bdc5d1-86df-4e29-ab97-0fdf58db263d",
   "metadata": {
    "tags": []
   },
   "outputs": [],
   "source": [
    "from sklearn.datasets import load_boston\n",
    "# Classification data\n",
    "heart_disease = pd.read_csv('https://raw.githubusercontent.com/jeong-wooseok/zero-to-mastery-ml/master/data/heart-disease.csv')\n",
    "\n",
    "# Regression data\n",
    "boston = load_boston()\n",
    "boston_df = pd.DataFrame(boston['data'], columns=boston['feature_names'])\n",
    "\n",
    "boston_df['target'] = pd.Series(boston['target'])"
   ]
  },
  {
   "cell_type": "code",
   "execution_count": 56,
   "id": "584d11a7-30af-474f-bdac-a6e7927a3073",
   "metadata": {
    "tags": []
   },
   "outputs": [
    {
     "data": {
      "text/html": [
       "<div>\n",
       "<style scoped>\n",
       "    .dataframe tbody tr th:only-of-type {\n",
       "        vertical-align: middle;\n",
       "    }\n",
       "\n",
       "    .dataframe tbody tr th {\n",
       "        vertical-align: top;\n",
       "    }\n",
       "\n",
       "    .dataframe thead th {\n",
       "        text-align: right;\n",
       "    }\n",
       "</style>\n",
       "<table border=\"1\" class=\"dataframe\">\n",
       "  <thead>\n",
       "    <tr style=\"text-align: right;\">\n",
       "      <th></th>\n",
       "      <th>CRIM</th>\n",
       "      <th>ZN</th>\n",
       "      <th>INDUS</th>\n",
       "      <th>CHAS</th>\n",
       "      <th>NOX</th>\n",
       "      <th>RM</th>\n",
       "      <th>AGE</th>\n",
       "      <th>DIS</th>\n",
       "      <th>RAD</th>\n",
       "      <th>TAX</th>\n",
       "      <th>PTRATIO</th>\n",
       "      <th>B</th>\n",
       "      <th>LSTAT</th>\n",
       "      <th>target</th>\n",
       "    </tr>\n",
       "  </thead>\n",
       "  <tbody>\n",
       "    <tr>\n",
       "      <th>0</th>\n",
       "      <td>0.00632</td>\n",
       "      <td>18.0</td>\n",
       "      <td>2.31</td>\n",
       "      <td>0.0</td>\n",
       "      <td>0.538</td>\n",
       "      <td>6.575</td>\n",
       "      <td>65.2</td>\n",
       "      <td>4.0900</td>\n",
       "      <td>1.0</td>\n",
       "      <td>296.0</td>\n",
       "      <td>15.3</td>\n",
       "      <td>396.90</td>\n",
       "      <td>4.98</td>\n",
       "      <td>24.0</td>\n",
       "    </tr>\n",
       "    <tr>\n",
       "      <th>1</th>\n",
       "      <td>0.02731</td>\n",
       "      <td>0.0</td>\n",
       "      <td>7.07</td>\n",
       "      <td>0.0</td>\n",
       "      <td>0.469</td>\n",
       "      <td>6.421</td>\n",
       "      <td>78.9</td>\n",
       "      <td>4.9671</td>\n",
       "      <td>2.0</td>\n",
       "      <td>242.0</td>\n",
       "      <td>17.8</td>\n",
       "      <td>396.90</td>\n",
       "      <td>9.14</td>\n",
       "      <td>21.6</td>\n",
       "    </tr>\n",
       "    <tr>\n",
       "      <th>2</th>\n",
       "      <td>0.02729</td>\n",
       "      <td>0.0</td>\n",
       "      <td>7.07</td>\n",
       "      <td>0.0</td>\n",
       "      <td>0.469</td>\n",
       "      <td>7.185</td>\n",
       "      <td>61.1</td>\n",
       "      <td>4.9671</td>\n",
       "      <td>2.0</td>\n",
       "      <td>242.0</td>\n",
       "      <td>17.8</td>\n",
       "      <td>392.83</td>\n",
       "      <td>4.03</td>\n",
       "      <td>34.7</td>\n",
       "    </tr>\n",
       "    <tr>\n",
       "      <th>3</th>\n",
       "      <td>0.03237</td>\n",
       "      <td>0.0</td>\n",
       "      <td>2.18</td>\n",
       "      <td>0.0</td>\n",
       "      <td>0.458</td>\n",
       "      <td>6.998</td>\n",
       "      <td>45.8</td>\n",
       "      <td>6.0622</td>\n",
       "      <td>3.0</td>\n",
       "      <td>222.0</td>\n",
       "      <td>18.7</td>\n",
       "      <td>394.63</td>\n",
       "      <td>2.94</td>\n",
       "      <td>33.4</td>\n",
       "    </tr>\n",
       "    <tr>\n",
       "      <th>4</th>\n",
       "      <td>0.06905</td>\n",
       "      <td>0.0</td>\n",
       "      <td>2.18</td>\n",
       "      <td>0.0</td>\n",
       "      <td>0.458</td>\n",
       "      <td>7.147</td>\n",
       "      <td>54.2</td>\n",
       "      <td>6.0622</td>\n",
       "      <td>3.0</td>\n",
       "      <td>222.0</td>\n",
       "      <td>18.7</td>\n",
       "      <td>396.90</td>\n",
       "      <td>5.33</td>\n",
       "      <td>36.2</td>\n",
       "    </tr>\n",
       "    <tr>\n",
       "      <th>...</th>\n",
       "      <td>...</td>\n",
       "      <td>...</td>\n",
       "      <td>...</td>\n",
       "      <td>...</td>\n",
       "      <td>...</td>\n",
       "      <td>...</td>\n",
       "      <td>...</td>\n",
       "      <td>...</td>\n",
       "      <td>...</td>\n",
       "      <td>...</td>\n",
       "      <td>...</td>\n",
       "      <td>...</td>\n",
       "      <td>...</td>\n",
       "      <td>...</td>\n",
       "    </tr>\n",
       "    <tr>\n",
       "      <th>501</th>\n",
       "      <td>0.06263</td>\n",
       "      <td>0.0</td>\n",
       "      <td>11.93</td>\n",
       "      <td>0.0</td>\n",
       "      <td>0.573</td>\n",
       "      <td>6.593</td>\n",
       "      <td>69.1</td>\n",
       "      <td>2.4786</td>\n",
       "      <td>1.0</td>\n",
       "      <td>273.0</td>\n",
       "      <td>21.0</td>\n",
       "      <td>391.99</td>\n",
       "      <td>9.67</td>\n",
       "      <td>22.4</td>\n",
       "    </tr>\n",
       "    <tr>\n",
       "      <th>502</th>\n",
       "      <td>0.04527</td>\n",
       "      <td>0.0</td>\n",
       "      <td>11.93</td>\n",
       "      <td>0.0</td>\n",
       "      <td>0.573</td>\n",
       "      <td>6.120</td>\n",
       "      <td>76.7</td>\n",
       "      <td>2.2875</td>\n",
       "      <td>1.0</td>\n",
       "      <td>273.0</td>\n",
       "      <td>21.0</td>\n",
       "      <td>396.90</td>\n",
       "      <td>9.08</td>\n",
       "      <td>20.6</td>\n",
       "    </tr>\n",
       "    <tr>\n",
       "      <th>503</th>\n",
       "      <td>0.06076</td>\n",
       "      <td>0.0</td>\n",
       "      <td>11.93</td>\n",
       "      <td>0.0</td>\n",
       "      <td>0.573</td>\n",
       "      <td>6.976</td>\n",
       "      <td>91.0</td>\n",
       "      <td>2.1675</td>\n",
       "      <td>1.0</td>\n",
       "      <td>273.0</td>\n",
       "      <td>21.0</td>\n",
       "      <td>396.90</td>\n",
       "      <td>5.64</td>\n",
       "      <td>23.9</td>\n",
       "    </tr>\n",
       "    <tr>\n",
       "      <th>504</th>\n",
       "      <td>0.10959</td>\n",
       "      <td>0.0</td>\n",
       "      <td>11.93</td>\n",
       "      <td>0.0</td>\n",
       "      <td>0.573</td>\n",
       "      <td>6.794</td>\n",
       "      <td>89.3</td>\n",
       "      <td>2.3889</td>\n",
       "      <td>1.0</td>\n",
       "      <td>273.0</td>\n",
       "      <td>21.0</td>\n",
       "      <td>393.45</td>\n",
       "      <td>6.48</td>\n",
       "      <td>22.0</td>\n",
       "    </tr>\n",
       "    <tr>\n",
       "      <th>505</th>\n",
       "      <td>0.04741</td>\n",
       "      <td>0.0</td>\n",
       "      <td>11.93</td>\n",
       "      <td>0.0</td>\n",
       "      <td>0.573</td>\n",
       "      <td>6.030</td>\n",
       "      <td>80.8</td>\n",
       "      <td>2.5050</td>\n",
       "      <td>1.0</td>\n",
       "      <td>273.0</td>\n",
       "      <td>21.0</td>\n",
       "      <td>396.90</td>\n",
       "      <td>7.88</td>\n",
       "      <td>11.9</td>\n",
       "    </tr>\n",
       "  </tbody>\n",
       "</table>\n",
       "<p>506 rows × 14 columns</p>\n",
       "</div>"
      ],
      "text/plain": [
       "        CRIM    ZN  INDUS  CHAS    NOX     RM   AGE     DIS  RAD    TAX  \\\n",
       "0    0.00632  18.0   2.31   0.0  0.538  6.575  65.2  4.0900  1.0  296.0   \n",
       "1    0.02731   0.0   7.07   0.0  0.469  6.421  78.9  4.9671  2.0  242.0   \n",
       "2    0.02729   0.0   7.07   0.0  0.469  7.185  61.1  4.9671  2.0  242.0   \n",
       "3    0.03237   0.0   2.18   0.0  0.458  6.998  45.8  6.0622  3.0  222.0   \n",
       "4    0.06905   0.0   2.18   0.0  0.458  7.147  54.2  6.0622  3.0  222.0   \n",
       "..       ...   ...    ...   ...    ...    ...   ...     ...  ...    ...   \n",
       "501  0.06263   0.0  11.93   0.0  0.573  6.593  69.1  2.4786  1.0  273.0   \n",
       "502  0.04527   0.0  11.93   0.0  0.573  6.120  76.7  2.2875  1.0  273.0   \n",
       "503  0.06076   0.0  11.93   0.0  0.573  6.976  91.0  2.1675  1.0  273.0   \n",
       "504  0.10959   0.0  11.93   0.0  0.573  6.794  89.3  2.3889  1.0  273.0   \n",
       "505  0.04741   0.0  11.93   0.0  0.573  6.030  80.8  2.5050  1.0  273.0   \n",
       "\n",
       "     PTRATIO       B  LSTAT  target  \n",
       "0       15.3  396.90   4.98    24.0  \n",
       "1       17.8  396.90   9.14    21.6  \n",
       "2       17.8  392.83   4.03    34.7  \n",
       "3       18.7  394.63   2.94    33.4  \n",
       "4       18.7  396.90   5.33    36.2  \n",
       "..       ...     ...    ...     ...  \n",
       "501     21.0  391.99   9.67    22.4  \n",
       "502     21.0  396.90   9.08    20.6  \n",
       "503     21.0  396.90   5.64    23.9  \n",
       "504     21.0  393.45   6.48    22.0  \n",
       "505     21.0  396.90   7.88    11.9  \n",
       "\n",
       "[506 rows x 14 columns]"
      ]
     },
     "execution_count": 56,
     "metadata": {},
     "output_type": "execute_result"
    }
   ],
   "source": [
    "boston_df"
   ]
  },
  {
   "cell_type": "markdown",
   "id": "4a82ba05-6df9-4bcc-81c4-586ec4c81e4a",
   "metadata": {},
   "source": [
    "## 1. Get the data ready"
   ]
  },
  {
   "cell_type": "code",
   "execution_count": 57,
   "id": "c9554833-ab49-4fd7-904f-5d669473eae0",
   "metadata": {},
   "outputs": [],
   "source": [
    "# Split data into X & y\n",
    "X = heart_disease.drop('target', axis = 1)\n",
    "y = heart_disease['target']"
   ]
  },
  {
   "cell_type": "code",
   "execution_count": 58,
   "id": "0a9ac32a-ce92-484f-8dd6-2a802e402006",
   "metadata": {},
   "outputs": [],
   "source": [
    "# Split the data into training and test sets\n",
    "from sklearn.model_selection import train_test_split\n",
    "# eXAMPLE USE CASE (REQUIRES x&Y)\n",
    "X_train, X_test, y_train, y_test = train_test_split(X, y)"
   ]
  },
  {
   "cell_type": "markdown",
   "id": "376dc023-48cc-4d12-8666-12deae8861c4",
   "metadata": {},
   "source": [
    "## 2. Pick a model / estimator (to suit your problem)\n",
    "To pick a model we use Scikit-Learning machin learning map."
   ]
  },
  {
   "cell_type": "code",
   "execution_count": 59,
   "id": "998b301a-28a8-48ba-ab02-92fff3419d77",
   "metadata": {},
   "outputs": [],
   "source": [
    "# random forest classificafier (for classification problems)\n",
    "from sklearn.ensemble import RandomForestClassifier\n",
    "# Instantiating a Randome Forest Classifier\n",
    "clf = RandomForestClassifier()"
   ]
  },
  {
   "cell_type": "code",
   "execution_count": 60,
   "id": "2fd34cad-5a2c-4a14-903f-cd462dee0fda",
   "metadata": {},
   "outputs": [],
   "source": [
    "# Random Forest Regressor \n",
    "from sklearn.ensemble import RandomForestRegressor\n",
    "# Instantiating a Random Forest Regressor\n",
    "Rgs = RandomForestRegressor"
   ]
  },
  {
   "cell_type": "markdown",
   "id": "7a34c38b-a6d4-4890-bdaa-467b6ee42d00",
   "metadata": {},
   "source": [
    "## 3. Fit the model to the data and make a prediction"
   ]
  },
  {
   "cell_type": "code",
   "execution_count": 61,
   "id": "6959bfc6-62e5-48bc-ba8c-3025082bdc15",
   "metadata": {
    "collapsed": true,
    "jupyter": {
     "outputs_hidden": true
    },
    "tags": []
   },
   "outputs": [
    {
     "data": {
      "text/plain": [
       "(array([1, 0, 0, 0, 1, 1, 1, 1, 1, 1, 0, 1, 1, 1, 1, 1, 0, 0, 1, 0, 0, 1,\n",
       "        0, 0, 0, 1, 0, 0, 1, 1, 1, 0, 1, 0, 1, 0, 0, 1, 1, 1, 0, 1, 0, 1,\n",
       "        1, 1, 1, 0, 0, 0, 0, 1, 0, 1, 0, 1, 1, 1, 1, 1, 1, 1, 0, 1, 1, 0,\n",
       "        1, 1, 0, 0, 1, 0, 1, 1, 1, 1], dtype=int64),\n",
       " array([[0.41, 0.59],\n",
       "        [0.69, 0.31],\n",
       "        [0.85, 0.15],\n",
       "        [0.92, 0.08],\n",
       "        [0.44, 0.56],\n",
       "        [0.15, 0.85],\n",
       "        [0.27, 0.73],\n",
       "        [0.  , 1.  ],\n",
       "        [0.35, 0.65],\n",
       "        [0.  , 1.  ],\n",
       "        [0.55, 0.45],\n",
       "        [0.01, 0.99],\n",
       "        [0.15, 0.85],\n",
       "        [0.13, 0.87],\n",
       "        [0.03, 0.97],\n",
       "        [0.25, 0.75],\n",
       "        [0.93, 0.07],\n",
       "        [0.74, 0.26],\n",
       "        [0.49, 0.51],\n",
       "        [0.67, 0.33],\n",
       "        [0.96, 0.04],\n",
       "        [0.2 , 0.8 ],\n",
       "        [0.69, 0.31],\n",
       "        [0.83, 0.17],\n",
       "        [0.95, 0.05],\n",
       "        [0.41, 0.59],\n",
       "        [0.58, 0.42],\n",
       "        [0.99, 0.01],\n",
       "        [0.13, 0.87],\n",
       "        [0.19, 0.81],\n",
       "        [0.05, 0.95],\n",
       "        [0.66, 0.34],\n",
       "        [0.18, 0.82],\n",
       "        [0.51, 0.49],\n",
       "        [0.02, 0.98],\n",
       "        [0.85, 0.15],\n",
       "        [0.74, 0.26],\n",
       "        [0.23, 0.77],\n",
       "        [0.38, 0.62],\n",
       "        [0.46, 0.54],\n",
       "        [0.82, 0.18],\n",
       "        [0.01, 0.99],\n",
       "        [0.73, 0.27],\n",
       "        [0.22, 0.78],\n",
       "        [0.23, 0.77],\n",
       "        [0.05, 0.95],\n",
       "        [0.03, 0.97],\n",
       "        [0.84, 0.16],\n",
       "        [0.85, 0.15],\n",
       "        [0.77, 0.23],\n",
       "        [0.99, 0.01],\n",
       "        [0.15, 0.85],\n",
       "        [0.91, 0.09],\n",
       "        [0.11, 0.89],\n",
       "        [0.86, 0.14],\n",
       "        [0.2 , 0.8 ],\n",
       "        [0.46, 0.54],\n",
       "        [0.26, 0.74],\n",
       "        [0.48, 0.52],\n",
       "        [0.2 , 0.8 ],\n",
       "        [0.08, 0.92],\n",
       "        [0.05, 0.95],\n",
       "        [0.62, 0.38],\n",
       "        [0.32, 0.68],\n",
       "        [0.04, 0.96],\n",
       "        [0.95, 0.05],\n",
       "        [0.46, 0.54],\n",
       "        [0.11, 0.89],\n",
       "        [0.96, 0.04],\n",
       "        [0.98, 0.02],\n",
       "        [0.29, 0.71],\n",
       "        [0.54, 0.46],\n",
       "        [0.22, 0.78],\n",
       "        [0.  , 1.  ],\n",
       "        [0.09, 0.91],\n",
       "        [0.41, 0.59]]))"
      ]
     },
     "execution_count": 61,
     "metadata": {},
     "output_type": "execute_result"
    }
   ],
   "source": [
    "# All models/estimators have the fit() function built in\n",
    "clf.fit(X_train,y_train)\n",
    "\n",
    "# Once fit is called, you can make predictions using predict()\n",
    "y_preds = clf.predict(X_test)\n",
    "\n",
    "# You can also predict with probabilities (on classification models)\n",
    "y_probs = clf.predict_proba(X_test)\n",
    "\n",
    "# View preds/probs\n",
    "y_preds, y_probs"
   ]
  },
  {
   "cell_type": "markdown",
   "id": "a88a335a-d595-4d8d-b021-188466db0871",
   "metadata": {},
   "source": [
    "## 4. Evaluate the model\n",
    "Every Scikit-Learn model has a default metric which is accesible through the score() function.\n",
    "\n",
    "However there are a range of different evaluation metrics you can use depending on the model you're using.\n",
    "\n",
    "A full list of evaluation metrics can be found in the documantation"
   ]
  },
  {
   "cell_type": "code",
   "execution_count": 62,
   "id": "85703c88-a812-4c90-99b9-0f1ae6dee1c1",
   "metadata": {},
   "outputs": [
    {
     "data": {
      "text/plain": [
       "1.0"
      ]
     },
     "execution_count": 62,
     "metadata": {},
     "output_type": "execute_result"
    }
   ],
   "source": [
    "clf.score(X_train,y_train)"
   ]
  },
  {
   "cell_type": "code",
   "execution_count": 63,
   "id": "3ca3df9c-beda-4918-93b3-744c3dce805f",
   "metadata": {},
   "outputs": [
    {
     "data": {
      "text/plain": [
       "0.8157894736842105"
      ]
     },
     "execution_count": 63,
     "metadata": {},
     "output_type": "execute_result"
    }
   ],
   "source": [
    "# All models/estimators have a score() function\n",
    "clf.score(X_test,y_test)"
   ]
  },
  {
   "cell_type": "code",
   "execution_count": 21,
   "id": "0c8cf23e-e614-422e-97f2-03c54ac59fdc",
   "metadata": {},
   "outputs": [
    {
     "name": "stdout",
     "output_type": "stream",
     "text": [
      "              precision    recall  f1-score   support\n",
      "\n",
      "           0       0.76      0.81      0.79        27\n",
      "           1       0.89      0.86      0.88        49\n",
      "\n",
      "    accuracy                           0.84        76\n",
      "   macro avg       0.83      0.84      0.83        76\n",
      "weighted avg       0.85      0.84      0.84        76\n",
      "\n"
     ]
    }
   ],
   "source": [
    "from sklearn.metrics import classification_report, confusion_matrix, accuracy_score\n",
    "\n",
    "print(classification_report(y_test,y_preds))"
   ]
  },
  {
   "cell_type": "code",
   "execution_count": 22,
   "id": "1910a0c5-cec8-4f18-bd2e-65696fd3909e",
   "metadata": {},
   "outputs": [
    {
     "data": {
      "text/plain": [
       "array([[22,  5],\n",
       "       [ 7, 42]], dtype=int64)"
      ]
     },
     "execution_count": 22,
     "metadata": {},
     "output_type": "execute_result"
    }
   ],
   "source": [
    "confusion_matrix(y_test,y_preds)"
   ]
  },
  {
   "cell_type": "code",
   "execution_count": 23,
   "id": "2bdfb00f-4043-4cd7-bf61-fa775e14c695",
   "metadata": {},
   "outputs": [
    {
     "data": {
      "text/plain": [
       "0.8421052631578947"
      ]
     },
     "execution_count": 23,
     "metadata": {},
     "output_type": "execute_result"
    }
   ],
   "source": [
    "accuracy_score(y_test,y_preds)"
   ]
  },
  {
   "cell_type": "code",
   "execution_count": 18,
   "id": "a1eac9ed-8fb6-4dd7-b61b-1ca7aa96617d",
   "metadata": {},
   "outputs": [
    {
     "name": "stdout",
     "output_type": "stream",
     "text": [
      "[0.85245902 0.90163934 0.83606557 0.8        0.76666667]\n",
      "[0.81081081 0.875      0.83870968 0.84848485 0.76315789]\n"
     ]
    }
   ],
   "source": [
    "# Evaluting a model using cross-validation is possible with cross_val_score\n",
    "from sklearn.model_selection import cross_val_score\n",
    "\n",
    "# scoring=None means default score() metric is used\n",
    "print(cross_val_score(estimator=clf,\n",
    "                      X=X,\n",
    "                      y=y,\n",
    "                      cv=5, # use 5-fold cross-validation\n",
    "                      scoring = None))\n",
    "\n",
    "# Evaluate a model with a different scoring method\n",
    "print(cross_val_score(estimator=clf,\n",
    "                      X=X,\n",
    "                      y=y,\n",
    "                      cv=5, # use 5-fold cross-validation\n",
    "                      scoring = 'precision'))"
   ]
  },
  {
   "cell_type": "markdown",
   "id": "f3431c33-a964-4599-8ed9-b60c357a369b",
   "metadata": {},
   "source": [
    "## 5. Improve a model\n",
    "Try different amount of a N_estimators"
   ]
  },
  {
   "cell_type": "code",
   "execution_count": 27,
   "id": "bd48d5c8-6628-4419-8649-ec7715fd31f5",
   "metadata": {},
   "outputs": [
    {
     "name": "stdout",
     "output_type": "stream",
     "text": [
      "Trying model with 1 estimators...\n",
      "Model accuracy on the test set :77.63%\n",
      "\n",
      "Trying model with 11 estimators...\n",
      "Model accuracy on the test set :77.63%\n",
      "\n",
      "Trying model with 21 estimators...\n",
      "Model accuracy on the test set :86.84%\n",
      "\n",
      "Trying model with 31 estimators...\n",
      "Model accuracy on the test set :81.58%\n",
      "\n",
      "Trying model with 41 estimators...\n",
      "Model accuracy on the test set :86.84%\n",
      "\n",
      "Trying model with 51 estimators...\n",
      "Model accuracy on the test set :80.26%\n",
      "\n",
      "Trying model with 61 estimators...\n",
      "Model accuracy on the test set :80.26%\n",
      "\n",
      "Trying model with 71 estimators...\n",
      "Model accuracy on the test set :85.53%\n",
      "\n",
      "Trying model with 81 estimators...\n",
      "Model accuracy on the test set :82.89%\n",
      "\n",
      "Trying model with 91 estimators...\n",
      "Model accuracy on the test set :81.58%\n",
      "\n"
     ]
    }
   ],
   "source": [
    "np.random.seed(42)\n",
    "for i in range(1,100,10):\n",
    "    print(f'Trying model with {i} estimators...')\n",
    "    clf = RandomForestClassifier(n_estimators=i).fit(X_train, y_train)\n",
    "    print(f'Model accuracy on the test set :{round(clf.score(X_test,y_test)*100,2)}%')\n",
    "    print(\"\")                                    \n",
    "    "
   ]
  },
  {
   "cell_type": "markdown",
   "id": "141f63d0-a5c0-470e-85df-a36f9bc69503",
   "metadata": {},
   "source": [
    "## 6. Save a model and load it"
   ]
  },
  {
   "cell_type": "code",
   "execution_count": 28,
   "id": "e723f6d0-9f95-4e74-b870-24b8db41124c",
   "metadata": {},
   "outputs": [],
   "source": [
    "# Save the model\n",
    "import pickle\n",
    "\n",
    "pickle.dump(clf, open(\"random_forest_model_1.pkl\",'wb'))"
   ]
  },
  {
   "cell_type": "code",
   "execution_count": 29,
   "id": "fa025df5-875f-4ea6-8ef4-36710b725ad5",
   "metadata": {},
   "outputs": [
    {
     "data": {
      "text/plain": [
       "0.8157894736842105"
      ]
     },
     "execution_count": 29,
     "metadata": {},
     "output_type": "execute_result"
    }
   ],
   "source": [
    "# load the model\n",
    "\n",
    "loaded_model = pickle.load(open(\"random_forest_model_1.pkl\",\"rb\"))\n",
    "loaded_model.score(X_test,y_test)"
   ]
  },
  {
   "cell_type": "code",
   "execution_count": 41,
   "id": "e79ebab5-fce4-488e-97bc-451ff219b280",
   "metadata": {},
   "outputs": [
    {
     "name": "stdout",
     "output_type": "stream",
     "text": [
      "\n",
      "System:\n",
      "    python: 3.7.10 (default, Feb 26 2021, 13:06:18) [MSC v.1916 64 bit (AMD64)]\n",
      "executable: C:\\Dev\\Miniconda\\python.exe\n",
      "   machine: Windows-10-10.0.22000-SP0\n",
      "\n",
      "Python dependencies:\n",
      "          pip: 21.1.3\n",
      "   setuptools: 52.0.0.post20210125\n",
      "      sklearn: 1.0.2\n",
      "        numpy: 1.21.5\n",
      "        scipy: 1.7.3\n",
      "       Cython: None\n",
      "       pandas: 1.3.5\n",
      "   matplotlib: 3.5.1\n",
      "       joblib: 1.1.0\n",
      "threadpoolctl: 3.1.0\n",
      "\n",
      "Built with OpenMP: True\n"
     ]
    }
   ],
   "source": [
    "import sklearn\n",
    "sklearn.show_versions()"
   ]
  },
  {
   "cell_type": "code",
   "execution_count": 50,
   "id": "cd76bff8-2feb-46eb-a685-c5aeb7c6a973",
   "metadata": {},
   "outputs": [
    {
     "data": {
      "text/plain": [
       "{'bootstrap': True,\n",
       " 'ccp_alpha': 0.0,\n",
       " 'class_weight': None,\n",
       " 'criterion': 'gini',\n",
       " 'max_depth': None,\n",
       " 'max_features': 'auto',\n",
       " 'max_leaf_nodes': None,\n",
       " 'max_samples': None,\n",
       " 'min_impurity_decrease': 0.0,\n",
       " 'min_samples_leaf': 1,\n",
       " 'min_samples_split': 2,\n",
       " 'min_weight_fraction_leaf': 0.0,\n",
       " 'n_estimators': 100,\n",
       " 'n_jobs': None,\n",
       " 'oob_score': False,\n",
       " 'random_state': None,\n",
       " 'verbose': 0,\n",
       " 'warm_start': False}"
      ]
     },
     "execution_count": 50,
     "metadata": {},
     "output_type": "execute_result"
    }
   ],
   "source": [
    "clf.get_params()"
   ]
  }
 ],
 "metadata": {
  "kernelspec": {
   "display_name": "Python 3 (ipykernel)",
   "language": "python",
   "name": "python3"
  },
  "language_info": {
   "codemirror_mode": {
    "name": "ipython",
    "version": 3
   },
   "file_extension": ".py",
   "mimetype": "text/x-python",
   "name": "python",
   "nbconvert_exporter": "python",
   "pygments_lexer": "ipython3",
   "version": "3.7.10"
  }
 },
 "nbformat": 4,
 "nbformat_minor": 5
}
