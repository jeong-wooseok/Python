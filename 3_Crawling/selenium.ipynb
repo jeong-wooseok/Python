{
 "cells": [
  {
   "cell_type": "code",
   "execution_count": 1,
   "metadata": {},
   "outputs": [],
   "source": [
    "import selenium"
   ]
  },
  {
   "cell_type": "code",
   "execution_count": 13,
   "metadata": {},
   "outputs": [],
   "source": [
    "path = './chromedriver.exe'\n",
    "key_id = 'gibgo'\n",
    "key_pw = 'a2041811naver'\n",
    "driver = webdriver.Chrome(path)\n",
    "driver.set_window_size(1080,800)\n",
    "driver.get('https://cafe.naver.com/jihosoccer123')\n",
    "time.sleep(1)\n",
    "driver.find_element_by_xpath('//*[@id=\"gnb_login_button\"]/span[3]').click()\n",
    "time.sleep(1)\n",
    "element_id = driver.find_element_by_xpath('//*[@id=\"id\"]')\n",
    "element_pw = driver.find_element_by_xpath('//*[@id=\"pw\"]')\n",
    "element_id.send_keys(key_id)\n",
    "time.sleep(1)\n",
    "element_pw.send_keys(key_pw)\n",
    "time.sleep(1)\n",
    "driver.find_element_by_xpath('//*[@id=\"log.login\"]').click()\n",
    "time.sleep(1)"
   ]
  },
  {
   "cell_type": "code",
   "execution_count": null,
   "metadata": {},
   "outputs": [],
   "source": []
  }
 ],
 "metadata": {
  "kernelspec": {
   "display_name": "Python 3",
   "language": "python",
   "name": "python3"
  },
  "language_info": {
   "codemirror_mode": {
    "name": "ipython",
    "version": 3
   },
   "file_extension": ".py",
   "mimetype": "text/x-python",
   "name": "python",
   "nbconvert_exporter": "python",
   "pygments_lexer": "ipython3",
   "version": "3.8.5"
  }
 },
 "nbformat": 4,
 "nbformat_minor": 4
}
