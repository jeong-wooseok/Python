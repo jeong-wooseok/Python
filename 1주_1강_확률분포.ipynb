{
  "nbformat": 4,
  "nbformat_minor": 0,
  "metadata": {
    "colab": {
      "provenance": [],
      "toc_visible": true,
      "collapsed_sections": [
        "-w1a_lKiaPb7"
      ],
      "authorship_tag": "ABX9TyMfUauTSg2Gly3hPRTLtz7t",
      "include_colab_link": true
    },
    "kernelspec": {
      "name": "python3",
      "display_name": "Python 3"
    },
    "language_info": {
      "name": "python"
    }
  },
  "cells": [
    {
      "cell_type": "markdown",
      "metadata": {
        "id": "view-in-github",
        "colab_type": "text"
      },
      "source": [
        "<a href=\"https://colab.research.google.com/github/jeong-wooseok/Python/blob/master/1%EC%A3%BC_1%EA%B0%95_%ED%99%95%EB%A5%A0%EB%B6%84%ED%8F%AC.ipynb\" target=\"_parent\"><img src=\"https://colab.research.google.com/assets/colab-badge.svg\" alt=\"Open In Colab\"/></a>"
      ]
    },
    {
      "cell_type": "markdown",
      "source": [
        "# 1주. 확률분포, 추정과 가설검정, 비모수 검정\n"
      ],
      "metadata": {
        "id": "-ZLnDvkaYxYD"
      }
    },
    {
      "cell_type": "markdown",
      "source": [
        "## 1강 확률분포"
      ],
      "metadata": {
        "id": "ytZJTMjYYxbU"
      }
    },
    {
      "cell_type": "markdown",
      "source": [
        "```\n",
        "확률변수(Random Variable)는 일정한 확률을 가지고 발생하는 이벤트에 수치가 부여된 변수.\n",
        "- 확률변수는 X,Y,Z와 같이 대문자로 표기하고, 확률변수의 값은 x,y,z와 같이 소문자표 표기\n",
        "- 셀 수 있는 확률인 이산형분포, 연속되어 셀수 없는 연속형확률분포로 구분\n"
      ],
      "metadata": {
        "id": "JnfV9H8u-oj2"
      }
    },
    {
      "cell_type": "markdown",
      "source": [
        "### 1.1 이산형 분포 확률"
      ],
      "metadata": {
        "id": "UMD-uyVYYxdv"
      }
    },
    {
      "cell_type": "markdown",
      "source": [
        "```\n",
        "확률변수가 가질 수 있는 값이 명확하고 셀수 있는 이산형의 분포\n",
        "- 확률변수 X가 취하는 확률값은 확률질량함수를 이용하여 계산\n",
        "- 확률값은 0~1사이이며 모든 확률의 값은 1\n",
        "- 베르누이, 이항분포, 음이항분포, 기하분포, 포아송분포, 다항분포, 초기하분포 등이 있다.\n"
      ],
      "metadata": {
        "id": "rxQPL3j2_F5o"
      }
    },
    {
      "cell_type": "markdown",
      "source": [
        "#### 1.1.1 베르누이분포"
      ],
      "metadata": {
        "id": "1J_tsUrYaPqi"
      }
    },
    {
      "cell_type": "markdown",
      "source": [
        "```\n",
        "두 가지 결과만 있는 이벤트에서 성공의 횟수를 확률변수 X라 할 때,\n",
        "확률변수 X는 성공률이 p, 실패확률 (q = 1-p)인 베르누이 분포를 따름\n",
        "X ~ B(1,p) 로 표기 \n",
        "```\n",
        "\n",
        "해당 분포의 확률질량함수, 기대값, 분산을 구하는 공식은 다음과 같다\n",
        "> $ f(x) = p^x(1-p)^{1-x} \\quad\\quad x=0,1, \\quad\\quad   0\t\\leq q\t\\leq 1 $<br>\n",
        " $ E(x) = p $<br>\n",
        " $ Var(X) = pq $<br>\n"
      ],
      "metadata": {
        "id": "RqPkdkyrBQAc"
      }
    },
    {
      "cell_type": "code",
      "source": [
        "# 베르누이 분포\n",
        "# 기대값과 분산 계산하기\n",
        "p = 0.3\n",
        "q = 1-p\n",
        "\n",
        "E = p\n",
        "V = p*q\n",
        "print(f'해당분포의 기대값은 {E:.3f}, 분산은 {V:.3f}')\n",
        "\n",
        "#scipy.stats활용\n",
        "from scipy.stats import bernoulli\n",
        "E,V = bernoulli.stats(p)\n",
        "print(f'scipy 해당분포의 기대값은 {E:.3f}, 분산은 {V:.3f}')\n"
      ],
      "metadata": {
        "id": "u7uFEX7Mv40q",
        "colab": {
          "base_uri": "https://localhost:8080/"
        },
        "outputId": "a1f11c30-252d-47e0-bda4-7b845b6e5890"
      },
      "execution_count": null,
      "outputs": [
        {
          "output_type": "stream",
          "name": "stdout",
          "text": [
            "해당분포의 기대값은 0.300, 분산은 0.210\n",
            "scipy 해당분포의 기대값은 0.300, 분산은 0.210\n"
          ]
        }
      ]
    },
    {
      "cell_type": "markdown",
      "source": [
        "####  1.1.2 이항분포"
      ],
      "metadata": {
        "id": "ZZdtB28AaPma"
      }
    },
    {
      "cell_type": "markdown",
      "source": [
        "``` \n",
        "베르누이 시행을 \"독립적으로 n번 반복시행\"했을 때 성공의 횟수를 확률변수 X라하면\n",
        "확률변수 X는 시행횟수 n번과 성공확률 p, 실패확률 (q=1-p)를 모수로 하는 이항분포를 따른다.\n",
        "X ~ B(n,p)로 표기\n",
        "\n",
        "- 이항분포 B(n,p)는 n>20, np>=5, n(1-p)>=5일 때 정규분포 N(np, npq)로 근사한다.\n",
        "- p <= 0.1, np= 0.1 ~ 10, n >= 50 일때 포아송분포 P(np)로 근사한다.\n",
        "- scipy.stats.binom.pmf(x,n,p), scipy.stats.binom.cdf(x,n,p)\n",
        "```\n",
        "\n",
        "해당 분포의 확률질량함수, 기대값, 분산을 구하는 공식은 다음과 같다\n",
        "> $ f(x) = _n C_x p^x(1-p)^{n-x} \\quad\\quad x=0,1,...,n $<br>\n",
        " $ E(x) = np $<br>\n",
        " $ Var(X) = npq $<br>"
      ],
      "metadata": {
        "id": "BdiQdv7BF2i4"
      }
    },
    {
      "cell_type": "markdown",
      "source": [
        "``` \n",
        "Q) 근로자가 내년에 회사에서 일하지 않을 확률이 0.1이라고 추정한 경우,\n",
        "시간제 근로자 3명을 무작위로 뽑았을 때, 그중 한명이 금년에 회사를 떠날 확률은?\n"
      ],
      "metadata": {
        "id": "x_59gMK0KnFH"
      }
    },
    {
      "cell_type": "code",
      "source": [
        "from scipy.stats import binom\n",
        "import numpy as np\n",
        "\n",
        "# combination 함수정의 : 수기로 계산시 확률계산용\n",
        "fac = np.math.factorial\n",
        "def combi(n,x):\n",
        "  result = fac(n)/fac(x)/fac(n-x)\n",
        "  return result"
      ],
      "metadata": {
        "id": "56WadBS9v5TH"
      },
      "execution_count": 1,
      "outputs": []
    },
    {
      "cell_type": "code",
      "source": [
        "n = 3\n",
        "x = 1\n",
        "p = 0.1\n",
        "\n",
        "E = n*p\n",
        "V = n*p*(1-p)\n",
        "print(f'해당분포의 기대값은 {E:.3f}, 분산은 {V:.3f}')\n",
        "\n",
        "# 확률질량함수 계산\n",
        "pmf = combi(n,x) * p**x * (1-p)**(n-x)\n",
        "# pmf = binom.pmf(x,n,p)\n",
        "print(f'해당분포의 확률질량함수(pmf):{pmf:.3f}')\n",
        "\n",
        "# 누적확률질량 함수 계산\n",
        "cdf = 0\n",
        "for i in range(0,x+1):\n",
        "  cdf += combi(n,x) * p**x * (1-p)**(n-x)\n",
        "print(f'해당분포의 누적확률질량함수(cdf):{binom.cdf(x,n,p):.3f}')\n",
        " "
      ],
      "metadata": {
        "colab": {
          "base_uri": "https://localhost:8080/"
        },
        "id": "SgboyPyZK3nE",
        "outputId": "94c87faf-f4e0-48db-aacb-6fc4ae9956e9"
      },
      "execution_count": 2,
      "outputs": [
        {
          "output_type": "stream",
          "name": "stdout",
          "text": [
            "해당분포의 기대값은 0.300, 분산은 0.270\n",
            "해당분포의 확률질량함수(pmf):0.243\n",
            "해당분포의 누적확률질량함수(cdf):0.972\n"
          ]
        }
      ]
    },
    {
      "cell_type": "markdown",
      "source": [
        "무작위로 3명 뽑을 때 그중 한명이 금년에 회사를 떠날 확률은 0.243임"
      ],
      "metadata": {
        "id": "MxbinRrQO1QW"
      }
    },
    {
      "cell_type": "markdown",
      "source": [
        "#### 1.1.3 음이항분포"
      ],
      "metadata": {
        "id": "rc1ZWW3BaPkk"
      }
    },
    {
      "cell_type": "markdown",
      "source": [
        "```\n",
        "베르누이 시행을 \"독립적으로 k번 성공할 때까지 반복시행\"했을 때 \n",
        "1) 시행횟수를 확률변수 X라 하거나 (일반적으로 분석가가 관심을 가짐)\n",
        "2) 실패횟수를 확률변수 X라 하는 경우\n",
        "확률변수 X는 성공횟수 k와 성공확률 p 를 모수로 갖는 음이항 분포를 따른다\n",
        "X ~ NB(k,p) 라 표기\n",
        "\n",
        "- 음이항분포의 X는 셀 수는 있지만 값이 무한한 무한확률변수.\n",
        "- 음이항분포에서 k=1이면, 음이항분포는 기하분포가 됨 \n",
        "- scipy.stats.nbinom.pmf(x,k,p), scipy.stats.nbinom.cdf(x,k,p)\n",
        "```\n",
        "\n",
        "해당 분포의 확률질량함수, 기대값, 분산을 구하는 공식은 다음과 같다\n",
        "<br><br>\n",
        "1) 확률변수 X = 시행횟수\n",
        "> $ f(x) = _{x-1} C_{k-1} p^k(1-p)^{x-k} \\quad\\quad x=k,k+1,...,\\quad\\quad k>0 $<br>\n",
        " $ E(x) = \\frac{kq}{p} $<br>\n",
        " $ Var(X) = \\frac{kq}{p^2}$<br>\n",
        "\n",
        "<br>\n",
        "\n",
        "\n",
        "2) 확률변수 X = 실패횟수\n",
        "> $ f(x) = _{x+k-1} C_{k-1} p^k(1-p)^x \\quad\\quad x=0,1,2,...,\\quad\\quad k>0 $ <br>\n",
        " $ E(x) = \\frac{kq}{p} $ <br>\n",
        " $ Var(X) = \\frac{kq}{p^2}$ <br>"
      ],
      "metadata": {
        "id": "ZvC4THMYPNCZ"
      }
    },
    {
      "cell_type": "markdown",
      "source": [
        "```\n",
        "Q) A가 승리할 확률이 0.3 이라면 5번째 경기에서 2번째로 이길 확률은? \n"
      ],
      "metadata": {
        "id": "Zd9pHv9ASvkM"
      }
    },
    {
      "cell_type": "code",
      "source": [
        "from scipy.stats import nbinom\n",
        "n = 5 # 총 시행횟수\n",
        "k = 2 # 총 성공횟수\n",
        "p = 0.3 # 성공확률\n",
        "q = 1-p # 실패확률\n",
        "\n",
        "case = 2\n",
        "if case ==1: # 확률변수 X가 k번 성공할 때까지 시행횟수 x인 경우\n",
        "  x = n # **확률변수\n",
        "  E = k / p\n",
        "  V = k*q / p**2\n",
        "  pmf = combi(x-1,k-1) * p**k * q**(x-k)\n",
        "  # E2, V2 = np.nan, np.nan  ## 라이브러리 지원 안함\n",
        "  # pkg_pmf, pkg_cdf = np.nan, np.nan ## 라이브러리 지원 안함\n",
        "  cdf=0\n",
        "  for i in range(k,x+1): # 확률변수의 확률값들을 합함\n",
        "    cdf += combi(i-1,k-1) * p**k * q**(1-k)\n",
        "elif case ==2: # 확률변수 X가 k번 성공할 때까지의 실패횟수 x인 경우\n",
        "  x = n-k # **확률변수\n",
        "  E = k*q / p\n",
        "  V = k*q / p**2\n",
        "  pmf = combi(x+k-1, k-1) * p**k * q**(x)\n",
        "  E2, V2 = nbinom.stats(k,p)\n",
        "  pkg_pmf, pkg_cdf = nbinom.pmf(x,k,p), nbinom.cdf(x,k,p)\n",
        "  cdf = 0\n",
        "  for i in range(0, x+1): # 확률변수의 확률값들을 합함\n",
        "    cdf += nbinom.pmf(i,k,p)\n",
        "\n",
        "# 기대값과 분산 계산하기 \n",
        "print(f'[수기] 해당분포의 기대값은{E:.3f}, 분산은 {V:.3f}')\n",
        "print(f'[라이브러리] 해당분포의 기대값은{E2:.3f}, 분산은 {V2:.3f} \\n')\n",
        "\n",
        "# 확률질량함수 계산하기\n",
        "print(f'[수기] 확률질량함수 (pmf) : {pmf:.3f}')\n",
        "print(f'[라이브러리] 확률질량함수 (pmf) : {pkg_pmf:.3f} \\n')\n",
        "\n",
        "# 누적확률질량함수 계산하기 : 2번째 이하로 이길 확률은? \n",
        "print(f'[수기] 누적확률질량함수 (cdf) : {cdf:.3f}')\n",
        "print(f'[라이브러리] 누적확률질량함수 (cdf) : {cdf:.3f} \\n')\n",
        "\n",
        "print(f'5번째 경기에서 2번째로 이길 확률은 {pmf*100:.1f}% 이다')\n",
        "\n"
      ],
      "metadata": {
        "id": "CE--SfScv5xi",
        "colab": {
          "base_uri": "https://localhost:8080/"
        },
        "outputId": "66bd451b-565b-4c36-8de9-9f91fa00da70"
      },
      "execution_count": null,
      "outputs": [
        {
          "output_type": "stream",
          "name": "stdout",
          "text": [
            "[수기] 해당분포의 기대값은4.667, 분산은 15.556\n",
            "[라이브러리] 해당분포의 기대값은4.667, 분산은 15.556 \n",
            "\n",
            "[수기] 확률질량함수 (pmf) : 0.123\n",
            "[라이브러리] 확률질량함수 (pmf) : 0.123 \n",
            "\n",
            "[수기] 누적확률질량함수 (cdf) : 0.472\n",
            "[라이브러리] 누적확률질량함수 (cdf) : 0.472 \n",
            "\n",
            "5번째 경기에서 2번째로 이길 확률은 12.3% 이다\n"
          ]
        }
      ]
    },
    {
      "cell_type": "markdown",
      "source": [
        "#### 1.1.4 기하분포"
      ],
      "metadata": {
        "id": "qfzyoKSIaPhK"
      }
    },
    {
      "cell_type": "markdown",
      "source": [
        "```\n",
        "베르누이 시행을 \n",
        "1) 처음으로 성공할 때까지의 시행횟수를 확률변수 X라 하는 경우 (분석가들이 주로 관심을 가짐)\n",
        "2) 처음 성공할때 까지의 실패횟수를 확률변수 X라 하는 경우\n",
        "확률변수 X는 성공확률 p 를 모수로 갖는 기하분포를 따른다\n",
        "X ~ G(p) 라 표기\n",
        "\n",
        "- 기하분포의 X는 셀 수는 있지만 값이 무한한 무한확률변수임\n",
        "- 기하분포는 이산확률분포 중에서 유일하게 무기억성*의 성질을 가짐\n",
        " * 무기억성 : 실패를 많이 했다고 해서 실패가 앞으로의 성공할 가능성에 영향을 미치지 않는다는 성질\n",
        "- scipy.stats.geom.pmf(x,p), scipy.stats.geom.cdf(x,p)\n",
        "```\n",
        "\n",
        "해당 분포의 확률질량함수, 기대값, 분산을 구하는 공식은 다음과 같다\n",
        "<br><br>\n",
        "1) 확률변수 X = 시행횟수\n",
        "> $ f(x) = pq^{x-1} \\quad\\quad x=1,2,3... $<br>\n",
        " $ E(x) = \\frac{1}{p} $<br>\n",
        " $ Var(X) = \\frac{1}{p^2}$<br>\n",
        "\n",
        "<br>\n",
        "\n",
        "\n",
        "2) 확률변수 X = 실패횟수\n",
        "> $ f(x) = pq^{x} \\quad\\quad x=0,1,2... $<br>\n",
        " $ E(x) = \\frac{q}{p} $ <br>\n",
        " $ Var(X) = \\frac{q}{p^2}$ <br>\n",
        "\n"
      ],
      "metadata": {
        "id": "_JaYxSrQsKii"
      }
    },
    {
      "cell_type": "markdown",
      "source": [
        "```\n",
        "Q) 하나의 주사위를 세번 던질 때 세번째 시행에서 앞면 숫자가 6이 나올 확률은?\n"
      ],
      "metadata": {
        "id": "zN7RllT-u6-h"
      }
    },
    {
      "cell_type": "code",
      "source": [
        "from scipy.stats import geom"
      ],
      "metadata": {
        "id": "2aUPDEYuu0sL"
      },
      "execution_count": null,
      "outputs": []
    },
    {
      "cell_type": "markdown",
      "source": [
        "#### 1.1.5 초기하분포"
      ],
      "metadata": {
        "id": "xpkNUQyPvNDa"
      }
    },
    {
      "cell_type": "markdown",
      "source": [],
      "metadata": {
        "id": "UA5UJbPAvr4U"
      }
    },
    {
      "cell_type": "markdown",
      "source": [],
      "metadata": {
        "id": "vQTSsFlrvrmC"
      }
    },
    {
      "cell_type": "code",
      "source": [],
      "metadata": {
        "id": "yzhyCve3vsro"
      },
      "execution_count": null,
      "outputs": []
    },
    {
      "cell_type": "markdown",
      "source": [
        "#### 1.1.6 포아송분포"
      ],
      "metadata": {
        "id": "9yCooBygaPfL"
      }
    },
    {
      "cell_type": "markdown",
      "source": [],
      "metadata": {
        "id": "RQSws0dqvuE-"
      }
    },
    {
      "cell_type": "markdown",
      "source": [],
      "metadata": {
        "id": "CWazGQpPvtwq"
      }
    },
    {
      "cell_type": "code",
      "source": [],
      "metadata": {
        "id": "Ss-cMLufvs6p"
      },
      "execution_count": null,
      "outputs": []
    },
    {
      "cell_type": "markdown",
      "source": [
        "### 1.2 연속형 확률분포"
      ],
      "metadata": {
        "id": "-w1a_lKiaPb7"
      }
    },
    {
      "cell_type": "markdown",
      "source": [
        "```\n",
        "확률변수가 가질 수 있는 값이 연속적인 실수여서 셀 수 없는 경우의 분포\n",
        "- 확률변수 X의 값은 확률밀도함수를 이용하여 계산\n",
        "- 확률밀도함수를 적분함으로써 그래프 아래의 면적인 확률값 계산 (면적의 총합 =1)\n",
        "- 균일분포, 정규분포, 지수분포, 카이제곱분포, t분포, F분포 등이 있음\n",
        "- Scipy라이브러리를 이용하여 쉽게 얻음 .pmf(), .cmf() .ppf() \n"
      ],
      "metadata": {
        "id": "Oay5ag3mAGcO"
      }
    },
    {
      "cell_type": "markdown",
      "source": [
        "#### 1.2.1 균일분포"
      ],
      "metadata": {
        "id": "Sx0BJXXaaPZl"
      }
    },
    {
      "cell_type": "markdown",
      "source": [
        "#### 1.2.2 정규분포, 표준 정규분포"
      ],
      "metadata": {
        "id": "hIPY39kqaPVz"
      }
    },
    {
      "cell_type": "markdown",
      "source": [
        "#### 1.2.3 지수분포"
      ],
      "metadata": {
        "id": "3wCRPq_FaPTp"
      }
    },
    {
      "cell_type": "markdown",
      "source": [
        "#### 1.2.4 감마분포"
      ],
      "metadata": {
        "id": "cFs8nmBWYxgr"
      }
    },
    {
      "cell_type": "markdown",
      "source": [
        "#### 1.2.5 카이제곱분포"
      ],
      "metadata": {
        "id": "8KQHvxmdYxjx"
      }
    },
    {
      "cell_type": "markdown",
      "source": [
        "#### 1.2.6 t분포"
      ],
      "metadata": {
        "id": "XnMTsKbjc8rc"
      }
    },
    {
      "cell_type": "markdown",
      "source": [
        "#### 1.2.7 F분포"
      ],
      "metadata": {
        "id": "3RzqP3bIc8pY"
      }
    },
    {
      "cell_type": "markdown",
      "source": [],
      "metadata": {
        "id": "g3dJ4mJZc8au"
      }
    },
    {
      "cell_type": "markdown",
      "source": [],
      "metadata": {
        "id": "Jp-FgtZ3c8Wx"
      }
    }
  ]
}